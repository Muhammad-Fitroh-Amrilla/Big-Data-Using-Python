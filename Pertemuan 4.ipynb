{
 "cells": [
  {
   "cell_type": "code",
   "execution_count": 2,
   "id": "2fea92a6",
   "metadata": {},
   "outputs": [
    {
     "name": "stdout",
     "output_type": "stream",
     "text": [
      "Tambah\n",
      "0\n",
      "4.0\n",
      "Kurang\n",
      "-8\n",
      "-4.0\n",
      "-1.1\n"
     ]
    }
   ],
   "source": [
    "#tambah\n",
    "print(\"Tambah\")\n",
    "print(-4 + 4)\n",
    "print(-4. + 8)\n",
    "#kurang\n",
    "print(\"Kurang\")\n",
    "print(-4 - 4)\n",
    "print(4. - 8)\n",
    "print(-1.1)"
   ]
  },
  {
   "cell_type": "code",
   "execution_count": 7,
   "id": "8b9b43e1",
   "metadata": {},
   "outputs": [
    {
     "name": "stdout",
     "output_type": "stream",
     "text": [
      "17\n",
      "1\n",
      "256\n"
     ]
    }
   ],
   "source": [
    "#prioritas\n",
    "print(2 + 3 * 5)\n",
    "#modulus\n",
    "print(9 % 6 % 2) #operasi dari kiri\n",
    "#pangkat\n",
    "print(2 ** 2 ** 3) #operasi dari kanan"
   ]
  },
  {
   "cell_type": "code",
   "execution_count": 8,
   "id": "96211724",
   "metadata": {},
   "outputs": [
    {
     "name": "stdout",
     "output_type": "stream",
     "text": [
      "1\n",
      "10.0\n"
     ]
    }
   ],
   "source": [
    "print(2 * 3 % 5)\n",
    "print((5 * ((25 % 13) + 100) / (2 * 13)) // 2)"
   ]
  },
  {
   "cell_type": "code",
   "execution_count": 9,
   "id": "738d9328",
   "metadata": {},
   "outputs": [
    {
     "name": "stdout",
     "output_type": "stream",
     "text": [
      "16 8.0 8\n"
     ]
    }
   ],
   "source": [
    "#exercise 1\n",
    "print((2 ** 4), (2 * 4.), (2 * 4))"
   ]
  },
  {
   "cell_type": "code",
   "execution_count": 10,
   "id": "8afbca85",
   "metadata": {},
   "outputs": [
    {
     "name": "stdout",
     "output_type": "stream",
     "text": [
      "-0.5 0.5 0 -1\n"
     ]
    }
   ],
   "source": [
    "#exercise 2\n",
    "print((-2 / 4), (2 / 4), (2 // 4), (-2 // 4))"
   ]
  },
  {
   "cell_type": "code",
   "execution_count": 11,
   "id": "66a40f30",
   "metadata": {},
   "outputs": [
    {
     "name": "stdout",
     "output_type": "stream",
     "text": [
      "-2 2 512\n"
     ]
    }
   ],
   "source": [
    "#exercise 3\n",
    "print((2 % -4), (2 % 4), (2 ** 3 ** 2))"
   ]
  },
  {
   "cell_type": "code",
   "execution_count": 16,
   "id": "e8d7477f",
   "metadata": {},
   "outputs": [
    {
     "name": "stdout",
     "output_type": "stream",
     "text": [
      "1\n"
     ]
    }
   ],
   "source": [
    "#Variable\n",
    "var = 1\n",
    "print(var)"
   ]
  },
  {
   "cell_type": "code",
   "execution_count": 17,
   "id": "647e13ee",
   "metadata": {},
   "outputs": [
    {
     "name": "stdout",
     "output_type": "stream",
     "text": [
      "1 1000.0 John Doe\n",
      "1\n"
     ]
    }
   ],
   "source": [
    "var = 1\n",
    "account_balance = 1000.0\n",
    "client_name = 'John Doe'\n",
    "print(var, account_balance, client_name)\n",
    "print(var)"
   ]
  },
  {
   "cell_type": "code",
   "execution_count": 21,
   "id": "d9744be0",
   "metadata": {},
   "outputs": [
    {
     "name": "stdout",
     "output_type": "stream",
     "text": [
      "Python version: 3.8.5\n"
     ]
    }
   ],
   "source": [
    "#kombinasi variabel dengan string \n",
    "var = \"3.8.5\"\n",
    "print(\"Python version: \" + var)"
   ]
  },
  {
   "cell_type": "code",
   "execution_count": 22,
   "id": "9d7f86e8",
   "metadata": {},
   "outputs": [
    {
     "name": "stdout",
     "output_type": "stream",
     "text": [
      "1\n",
      "2\n"
     ]
    }
   ],
   "source": [
    "#Menambahkan nilai baru ke variabel\n",
    "var = 1\n",
    "print(var)\n",
    "var = var + 1\n",
    "print(var)"
   ]
  },
  {
   "cell_type": "code",
   "execution_count": 23,
   "id": "c1dc0118",
   "metadata": {},
   "outputs": [
    {
     "name": "stdout",
     "output_type": "stream",
     "text": [
      "500\n"
     ]
    }
   ],
   "source": [
    "var = 100\n",
    "var = 200 + 300\n",
    "print(var)"
   ]
  },
  {
   "cell_type": "code",
   "execution_count": 24,
   "id": "4a080a49",
   "metadata": {},
   "outputs": [
    {
     "name": "stdout",
     "output_type": "stream",
     "text": [
      "c = 5.0\n"
     ]
    }
   ],
   "source": [
    "#memecahkan masalah matematika X^1/2 \n",
    "a = 3.0\n",
    "b = 4.0\n",
    "c = (a ** 2 + b ** 2) ** 0.5\n",
    "print(\"c =\", c)"
   ]
  },
  {
   "cell_type": "code",
   "execution_count": 31,
   "id": "5c9ea9e2",
   "metadata": {},
   "outputs": [
    {
     "name": "stdout",
     "output_type": "stream",
     "text": [
      "3, 5, 6\n",
      "Total number of apples :  14\n",
      "Total number of apples : 14\n"
     ]
    }
   ],
   "source": [
    "#lab\n",
    "john = 3\n",
    "mary = 5\n",
    "adam = 6\n",
    "print(john,mary,adam,sep=\", \")\n",
    "total_apples = john + mary + adam\n",
    "print(\"Total number of apples : \" , total_apples)\n",
    "#print(\"Total number of apples : \" + str(total_apples))"
   ]
  },
  {
   "cell_type": "code",
   "execution_count": 33,
   "id": "11615f57",
   "metadata": {},
   "outputs": [
    {
     "name": "stdout",
     "output_type": "stream",
     "text": [
      "7.38 miles is 11.88 kilometers\n",
      "12.25 kilometers is 7.61 miles\n"
     ]
    }
   ],
   "source": [
    "#lab\n",
    "kilometers = 12.25\n",
    "miles = 7.38\n",
    "\n",
    "miles_to_kilometers = miles*1.61\n",
    "kilometers_to_miles = kilometers/1.61\n",
    "\n",
    "print(miles, \"miles is\", round(miles_to_kilometers, 2), \"kilometers\")\n",
    "print(kilometers, \"kilometers is\", round(kilometers_to_miles, 2), \"miles\")"
   ]
  },
  {
   "cell_type": "code",
   "execution_count": 37,
   "id": "4a516e6f",
   "metadata": {},
   "outputs": [
    {
     "name": "stdout",
     "output_type": "stream",
     "text": [
      "2 USD is 28967.4 Rupiah\n",
      "20000 Rupiah is 1.38 USD\n"
     ]
    }
   ],
   "source": [
    "Rupiah = 20000\n",
    "USD = 2\n",
    "\n",
    "USD_to_Rupiah = USD*14483.70\n",
    "Rupiah_to_USD = Rupiah/14483.70\n",
    "\n",
    "print(USD, \"USD is\", round(USD_to_Rupiah, 2), \"Rupiah\")\n",
    "print(Rupiah, \"Rupiah is\", round(Rupiah_to_USD, 2), \"USD\")"
   ]
  },
  {
   "cell_type": "code",
   "execution_count": 36,
   "id": "96bc2944",
   "metadata": {},
   "outputs": [
    {
     "name": "stdout",
     "output_type": "stream",
     "text": [
      "1000 Kilogram = 1000000 Gram\n",
      "8700 Gram = 8.7 Kilogram\n"
     ]
    }
   ],
   "source": [
    "kg = 1000\n",
    "gram = 8700\n",
    "\n",
    "kg_to_gram = kg*1000\n",
    "gram_to_kg = gram/1000\n",
    "\n",
    "print(kg, \"Kilogram =\", round(kg_to_gram, 2), \"Gram\")\n",
    "print(gram, \"Gram =\", round(gram_to_kg, 2), \"Kilogram\")"
   ]
  }
 ],
 "metadata": {
  "kernelspec": {
   "display_name": "Python 3",
   "language": "python",
   "name": "python3"
  },
  "language_info": {
   "codemirror_mode": {
    "name": "ipython",
    "version": 3
   },
   "file_extension": ".py",
   "mimetype": "text/x-python",
   "name": "python",
   "nbconvert_exporter": "python",
   "pygments_lexer": "ipython3",
   "version": "3.8.8"
  }
 },
 "nbformat": 4,
 "nbformat_minor": 5
}
