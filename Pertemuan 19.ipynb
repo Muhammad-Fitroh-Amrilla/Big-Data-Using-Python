{
 "cells": [
  {
   "cell_type": "code",
   "execution_count": 30,
   "id": "81eef7d2",
   "metadata": {},
   "outputs": [
    {
     "name": "stdout",
     "output_type": "stream",
     "text": [
      "Enter x: 4\n",
      "The square root of 4.0 equals to 2.0\n"
     ]
    }
   ],
   "source": [
    "import math\n",
    "\n",
    "x = float(input(\"Enter x: \"))\n",
    "y = math.sqrt(x)\n",
    "\n",
    "print(\"The square root of\", x, \"equals to\", y)\n"
   ]
  },
  {
   "cell_type": "code",
   "execution_count": 31,
   "id": "87d6f998",
   "metadata": {},
   "outputs": [
    {
     "ename": "ZeroDivisionError",
     "evalue": "division by zero",
     "output_type": "error",
     "traceback": [
      "\u001b[1;31m---------------------------------------------------------------------------\u001b[0m",
      "\u001b[1;31mZeroDivisionError\u001b[0m                         Traceback (most recent call last)",
      "\u001b[1;32m<ipython-input-31-ad45975c684c>\u001b[0m in \u001b[0;36m<module>\u001b[1;34m\u001b[0m\n\u001b[0;32m      1\u001b[0m \u001b[0mvalue\u001b[0m \u001b[1;33m=\u001b[0m \u001b[1;36m1\u001b[0m\u001b[1;33m\u001b[0m\u001b[1;33m\u001b[0m\u001b[0m\n\u001b[1;32m----> 2\u001b[1;33m \u001b[0mvalue\u001b[0m \u001b[1;33m/=\u001b[0m \u001b[1;36m0\u001b[0m\u001b[1;33m\u001b[0m\u001b[1;33m\u001b[0m\u001b[0m\n\u001b[0m",
      "\u001b[1;31mZeroDivisionError\u001b[0m: division by zero"
     ]
    }
   ],
   "source": [
    "value = 1\n",
    "value /= 0\n"
   ]
  },
  {
   "cell_type": "code",
   "execution_count": 32,
   "id": "c82b656f",
   "metadata": {},
   "outputs": [
    {
     "ename": "IndexError",
     "evalue": "list index out of range",
     "output_type": "error",
     "traceback": [
      "\u001b[1;31m---------------------------------------------------------------------------\u001b[0m",
      "\u001b[1;31mIndexError\u001b[0m                                Traceback (most recent call last)",
      "\u001b[1;32m<ipython-input-32-52a18c7c8ab6>\u001b[0m in \u001b[0;36m<module>\u001b[1;34m\u001b[0m\n\u001b[0;32m      1\u001b[0m \u001b[0mmy_list\u001b[0m \u001b[1;33m=\u001b[0m \u001b[1;33m[\u001b[0m\u001b[1;33m]\u001b[0m\u001b[1;33m\u001b[0m\u001b[1;33m\u001b[0m\u001b[0m\n\u001b[1;32m----> 2\u001b[1;33m \u001b[0mx\u001b[0m \u001b[1;33m=\u001b[0m \u001b[0mmy_list\u001b[0m\u001b[1;33m[\u001b[0m\u001b[1;36m0\u001b[0m\u001b[1;33m]\u001b[0m\u001b[1;33m\u001b[0m\u001b[1;33m\u001b[0m\u001b[0m\n\u001b[0m",
      "\u001b[1;31mIndexError\u001b[0m: list index out of range"
     ]
    }
   ],
   "source": [
    "my_list = []\n",
    "x = my_list[0]\n"
   ]
  },
  {
   "cell_type": "code",
   "execution_count": 33,
   "id": "d9fbc690",
   "metadata": {},
   "outputs": [
    {
     "name": "stdout",
     "output_type": "stream",
     "text": [
      "Enter the first number: 21\n",
      "Enter the second number: 3\n",
      "7.0\n",
      "THE END.\n"
     ]
    }
   ],
   "source": [
    "first_number = int(input(\"Enter the first number: \"))\n",
    "second_number = int(input(\"Enter the second number: \"))\n",
    "\n",
    "if second_number != 0:\n",
    "    print(first_number / second_number)\n",
    "else:\n",
    "    print(\"This operation cannot be done.\")\n",
    "\n",
    "print(\"THE END.\")\n"
   ]
  },
  {
   "cell_type": "code",
   "execution_count": 34,
   "id": "9799de03",
   "metadata": {},
   "outputs": [
    {
     "name": "stdout",
     "output_type": "stream",
     "text": [
      "Enter the first number: 21\n",
      "Enter the second number: 3\n",
      "7.0\n",
      "THE END.\n"
     ]
    }
   ],
   "source": [
    "first_number = int(input(\"Enter the first number: \"))\n",
    "second_number = int(input(\"Enter the second number: \"))\n",
    "\n",
    "try:\n",
    "    print(first_number / second_number)\n",
    "except:\n",
    "    print(\"This operation cannot be done.\")\n",
    "\n",
    "print(\"THE END.\")\n"
   ]
  },
  {
   "cell_type": "code",
   "execution_count": 35,
   "id": "c997ba15",
   "metadata": {},
   "outputs": [
    {
     "name": "stdout",
     "output_type": "stream",
     "text": [
      "1\n",
      "Oh dear, something went wrong...\n",
      "3\n"
     ]
    }
   ],
   "source": [
    "try:\n",
    "    print(\"1\")\n",
    "    x = 1 / 0\n",
    "    print(\"2\")\n",
    "except:\n",
    "    print(\"Oh dear, something went wrong...\")\n",
    "\n",
    "print(\"3\")\n"
   ]
  },
  {
   "cell_type": "code",
   "execution_count": 36,
   "id": "9c3f258e",
   "metadata": {},
   "outputs": [
    {
     "name": "stdout",
     "output_type": "stream",
     "text": [
      "Enter a number: 21\n",
      "THE END.\n"
     ]
    }
   ],
   "source": [
    "try:\n",
    "    x = int(input(\"Enter a number: \"))\n",
    "    y = 1 / x\n",
    "except:\n",
    "    print(\"Oh dear, something went wrong...\")\n",
    "\n",
    "print(\"THE END.\")\n"
   ]
  },
  {
   "cell_type": "code",
   "execution_count": 37,
   "id": "66f0cc26",
   "metadata": {},
   "outputs": [
    {
     "name": "stdout",
     "output_type": "stream",
     "text": [
      "Enter a number: 21\n",
      "0.047619047619047616\n",
      "THE END.\n"
     ]
    }
   ],
   "source": [
    "try:\n",
    "    x = int(input(\"Enter a number: \"))\n",
    "    y = 1 / x\n",
    "    print(y)\n",
    "except ZeroDivisionError:\n",
    "    print(\"You cannot divide by zero, sorry.\")\n",
    "except ValueError:\n",
    "    print(\"You must enter an integer value.\")\n",
    "except:\n",
    "    print(\"Oh dear, something went wrong...\")\n",
    "\n",
    "print(\"THE END.\")\n"
   ]
  },
  {
   "cell_type": "code",
   "execution_count": 38,
   "id": "47da81cd",
   "metadata": {},
   "outputs": [
    {
     "name": "stdout",
     "output_type": "stream",
     "text": [
      "Enter a number: 21\n",
      "0.047619047619047616\n",
      "THE END.\n"
     ]
    }
   ],
   "source": [
    "try:\n",
    "    x = int(input(\"Enter a number: \"))\n",
    "    y = 1 / x\n",
    "    print(y)\n",
    "except ValueError:\n",
    "    print(\"You must enter an integer value.\")\n",
    "except:\n",
    "    print(\"Oh dear, something went wrong...\")\n",
    "\n",
    "print(\"THE END.\")\n"
   ]
  },
  {
   "cell_type": "code",
   "execution_count": 39,
   "id": "f2a5c80a",
   "metadata": {},
   "outputs": [
    {
     "name": "stdout",
     "output_type": "stream",
     "text": [
      "Enter a number: 0\n"
     ]
    },
    {
     "ename": "ZeroDivisionError",
     "evalue": "division by zero",
     "output_type": "error",
     "traceback": [
      "\u001b[1;31m---------------------------------------------------------------------------\u001b[0m",
      "\u001b[1;31mZeroDivisionError\u001b[0m                         Traceback (most recent call last)",
      "\u001b[1;32m<ipython-input-39-e71d40ffb950>\u001b[0m in \u001b[0;36m<module>\u001b[1;34m\u001b[0m\n\u001b[0;32m      1\u001b[0m \u001b[1;32mtry\u001b[0m\u001b[1;33m:\u001b[0m\u001b[1;33m\u001b[0m\u001b[1;33m\u001b[0m\u001b[0m\n\u001b[0;32m      2\u001b[0m     \u001b[0mx\u001b[0m \u001b[1;33m=\u001b[0m \u001b[0mint\u001b[0m\u001b[1;33m(\u001b[0m\u001b[0minput\u001b[0m\u001b[1;33m(\u001b[0m\u001b[1;34m\"Enter a number: \"\u001b[0m\u001b[1;33m)\u001b[0m\u001b[1;33m)\u001b[0m\u001b[1;33m\u001b[0m\u001b[1;33m\u001b[0m\u001b[0m\n\u001b[1;32m----> 3\u001b[1;33m     \u001b[0my\u001b[0m \u001b[1;33m=\u001b[0m \u001b[1;36m1\u001b[0m \u001b[1;33m/\u001b[0m \u001b[0mx\u001b[0m\u001b[1;33m\u001b[0m\u001b[1;33m\u001b[0m\u001b[0m\n\u001b[0m\u001b[0;32m      4\u001b[0m     \u001b[0mprint\u001b[0m\u001b[1;33m(\u001b[0m\u001b[0my\u001b[0m\u001b[1;33m)\u001b[0m\u001b[1;33m\u001b[0m\u001b[1;33m\u001b[0m\u001b[0m\n\u001b[0;32m      5\u001b[0m \u001b[1;32mexcept\u001b[0m \u001b[0mValueError\u001b[0m\u001b[1;33m:\u001b[0m\u001b[1;33m\u001b[0m\u001b[1;33m\u001b[0m\u001b[0m\n",
      "\u001b[1;31mZeroDivisionError\u001b[0m: division by zero"
     ]
    }
   ],
   "source": [
    "try:\n",
    "    x = int(input(\"Enter a number: \"))\n",
    "    y = 1 / x\n",
    "    print(y)\n",
    "except ValueError:\n",
    "    print(\"You must enter an integer value.\")\n",
    "\n",
    "print(\"THE END.\")\n",
    "\n"
   ]
  },
  {
   "cell_type": "code",
   "execution_count": 40,
   "id": "881bfbc9",
   "metadata": {},
   "outputs": [
    {
     "name": "stdout",
     "output_type": "stream",
     "text": [
      "Let's try to do this\n",
      "We failed\n",
      "We're done\n"
     ]
    }
   ],
   "source": [
    "try:\n",
    "    print(\"Let's try to do this\")\n",
    "    print(\"#\"[2])\n",
    "    print(\"We succeeded!\")\n",
    "except:\n",
    "    print(\"We failed\")\n",
    "print(\"We're done\")"
   ]
  },
  {
   "cell_type": "code",
   "execution_count": 41,
   "id": "33d94550",
   "metadata": {},
   "outputs": [
    {
     "name": "stdout",
     "output_type": "stream",
     "text": [
      "zero\n"
     ]
    }
   ],
   "source": [
    "try:\n",
    "    print(\"alpha\"[1/0])\n",
    "except ZeroDivisionError:\n",
    "    print(\"zero\")\n",
    "except IndexingError:\n",
    "    print(\"index\")\n",
    "except:\n",
    "    print(\"some\")"
   ]
  },
  {
   "cell_type": "code",
   "execution_count": 42,
   "id": "f53fac5a",
   "metadata": {},
   "outputs": [
    {
     "name": "stdout",
     "output_type": "stream",
     "text": [
      "Oooppsss...\n",
      "THE END.\n"
     ]
    }
   ],
   "source": [
    "try:\n",
    "    y = 1 / 0\n",
    "except ZeroDivisionError:\n",
    "    print(\"Oooppsss...\")\n",
    "\n",
    "print(\"THE END.\")\n"
   ]
  },
  {
   "cell_type": "code",
   "execution_count": 43,
   "id": "4c8631dc",
   "metadata": {},
   "outputs": [
    {
     "name": "stdout",
     "output_type": "stream",
     "text": [
      "Oooppsss...\n",
      "THE END.\n"
     ]
    }
   ],
   "source": [
    "try:\n",
    "    y = 1 / 0\n",
    "except ArithmeticError:\n",
    "    print(\"Oooppsss...\")\n",
    "\n",
    "print(\"THE END.\")\n",
    "\n"
   ]
  },
  {
   "cell_type": "code",
   "execution_count": 44,
   "id": "f4944c73",
   "metadata": {},
   "outputs": [
    {
     "name": "stdout",
     "output_type": "stream",
     "text": [
      "Zero Division!\n",
      "THE END.\n"
     ]
    }
   ],
   "source": [
    "try:\n",
    "    y = 1 / 0\n",
    "except ZeroDivisionError:\n",
    "    print(\"Zero Division!\")\n",
    "except ArithmeticError:\n",
    "    print(\"Arithmetic problem!\")\n",
    "\n",
    "print(\"THE END.\")\n"
   ]
  },
  {
   "cell_type": "code",
   "execution_count": 45,
   "id": "9bd69d9b",
   "metadata": {},
   "outputs": [
    {
     "name": "stdout",
     "output_type": "stream",
     "text": [
      "Arithmetic problem!\n",
      "THE END.\n"
     ]
    }
   ],
   "source": [
    "try:\n",
    "    y = 1 / 0\n",
    "except ArithmeticError:\n",
    "    print(\"Arithmetic problem!\")\n",
    "except ZeroDivisionError:\n",
    "    print(\"Zero Division!\")\n",
    "\n",
    "print(\"THE END.\")\n",
    "\n"
   ]
  },
  {
   "cell_type": "code",
   "execution_count": 46,
   "id": "6a80ef44",
   "metadata": {},
   "outputs": [
    {
     "name": "stdout",
     "output_type": "stream",
     "text": [
      "Arithmetic Problem!\n",
      "THE END.\n"
     ]
    }
   ],
   "source": [
    "def bad_fun(n):\n",
    "    try:\n",
    "        return 1 / n\n",
    "    except ArithmeticError:\n",
    "        print(\"Arithmetic Problem!\")\n",
    "    return None\n",
    "\n",
    "bad_fun(0)\n",
    "\n",
    "print(\"THE END.\")\n"
   ]
  },
  {
   "cell_type": "code",
   "execution_count": 47,
   "id": "7cb99b60",
   "metadata": {},
   "outputs": [
    {
     "name": "stdout",
     "output_type": "stream",
     "text": [
      "What happened? An exception was raised!\n",
      "THE END.\n"
     ]
    }
   ],
   "source": [
    "def bad_fun(n):\n",
    "    return 1 / n\n",
    "\n",
    "try:\n",
    "    bad_fun(0)\n",
    "except ArithmeticError:\n",
    "    print(\"What happened? An exception was raised!\")\n",
    "\n",
    "print(\"THE END.\")\n",
    "\n"
   ]
  },
  {
   "cell_type": "code",
   "execution_count": 48,
   "id": "4d2dcf5d",
   "metadata": {},
   "outputs": [
    {
     "name": "stdout",
     "output_type": "stream",
     "text": [
      "What happened? An error?\n",
      "THE END.\n"
     ]
    }
   ],
   "source": [
    "def bad_fun(n):\n",
    "    raise ZeroDivisionError\n",
    "\n",
    "\n",
    "try:\n",
    "    bad_fun(0)\n",
    "except ArithmeticError:\n",
    "    print(\"What happened? An error?\")\n",
    "\n",
    "print(\"THE END.\")\n"
   ]
  },
  {
   "cell_type": "code",
   "execution_count": 49,
   "id": "02a7845a",
   "metadata": {},
   "outputs": [
    {
     "name": "stdout",
     "output_type": "stream",
     "text": [
      "I did it again!\n",
      "I see!\n",
      "THE END.\n"
     ]
    }
   ],
   "source": [
    "def bad_fun(n):\n",
    "    try:\n",
    "        return n / 0\n",
    "    except:\n",
    "        print(\"I did it again!\")\n",
    "        raise\n",
    "\n",
    "\n",
    "try:\n",
    "    bad_fun(0)\n",
    "except ArithmeticError:\n",
    "    print(\"I see!\")\n",
    "\n",
    "print(\"THE END.\")\n"
   ]
  },
  {
   "cell_type": "code",
   "execution_count": 50,
   "id": "42c5bef1",
   "metadata": {},
   "outputs": [
    {
     "name": "stdout",
     "output_type": "stream",
     "text": [
      "Enter a number: 2\n",
      "1.4142135623730951\n"
     ]
    }
   ],
   "source": [
    "import math\n",
    "\n",
    "x = float(input(\"Enter a number: \"))\n",
    "assert x >= 0.0\n",
    "\n",
    "x = math.sqrt(x)\n",
    "\n",
    "print(x)\n"
   ]
  },
  {
   "cell_type": "code",
   "execution_count": 51,
   "id": "7eadb1c9",
   "metadata": {},
   "outputs": [
    {
     "name": "stdout",
     "output_type": "stream",
     "text": [
      "zero\n"
     ]
    }
   ],
   "source": [
    "try:\n",
    "    print(1/0)\n",
    "except ZeroDivisionError:\n",
    "    print(\"zero\")\n",
    "except ArithmeticError:\n",
    "    print(\"arith\")\n",
    "except:\n",
    "    print(\"some\")"
   ]
  },
  {
   "cell_type": "code",
   "execution_count": 52,
   "id": "c7997ab7",
   "metadata": {},
   "outputs": [
    {
     "name": "stdout",
     "output_type": "stream",
     "text": [
      "arith\n"
     ]
    }
   ],
   "source": [
    "try:\n",
    "    print(1/0)\n",
    "except ArithmeticError:\n",
    "    print(\"arith\")\n",
    "except ZeroDivisionError:\n",
    "    print(\"zero\")\n",
    "except:\n",
    "    print(\"some\")\n"
   ]
  },
  {
   "cell_type": "code",
   "execution_count": 1,
   "id": "dc4c4f5d",
   "metadata": {},
   "outputs": [
    {
     "name": "stdout",
     "output_type": "stream",
     "text": [
      "some\n"
     ]
    }
   ],
   "source": [
    "def foo(x):\n",
    "    assert x\n",
    "    return 1/x\n",
    "\n",
    "\n",
    "try:\n",
    "    print(foo(0))\n",
    "except ZeroDivisionError:\n",
    "    print(\"zero\")\n",
    "except:\n",
    "    print(\"some\")"
   ]
  },
  {
   "cell_type": "code",
   "execution_count": 55,
   "id": "837baa98",
   "metadata": {},
   "outputs": [
    {
     "name": "stdout",
     "output_type": "stream",
     "text": [
      "Enter integral angle in degrees: 1\n",
      "0.017455064928217585\n"
     ]
    }
   ],
   "source": [
    "from math import tan, radians\n",
    "angle = int(input('Enter integral angle in degrees: '))\n",
    "\n",
    "# We must be sure that angle != 90 + k * 180\n",
    "assert angle % 180 != 90\n",
    "print(tan(radians(angle)))\n",
    "\n"
   ]
  },
  {
   "cell_type": "code",
   "execution_count": 2,
   "id": "e53c567c",
   "metadata": {},
   "outputs": [
    {
     "name": "stdout",
     "output_type": "stream",
     "text": [
      "1\n",
      "2\n",
      "3\n",
      "4\n",
      "5\n",
      "Done\n"
     ]
    }
   ],
   "source": [
    "# The code shows an extravagant way\n",
    "# of leaving the loop.\n",
    "\n",
    "the_list = [1, 2, 3, 4, 5]\n",
    "ix = 0\n",
    "do_it = True\n",
    "\n",
    "while do_it:\n",
    "    try:\n",
    "        print(the_list[ix])\n",
    "        ix += 1\n",
    "    except IndexError:\n",
    "        do_it = False\n",
    "\n",
    "print('Done')\n",
    "\n"
   ]
  },
  {
   "cell_type": "code",
   "execution_count": null,
   "id": "7d8d2328",
   "metadata": {},
   "outputs": [
    {
     "name": "stdout",
     "output_type": "stream",
     "text": [
      "0\n",
      "1\n",
      "2\n",
      "3\n",
      "4\n",
      "5\n",
      "6\n",
      "7\n",
      "8\n",
      "9\n",
      "10\n",
      "11\n",
      "12\n",
      "13\n",
      "14\n",
      "15\n",
      "16\n",
      "17\n",
      "18\n",
      "19\n",
      "20\n",
      "21\n",
      "22\n",
      "23\n",
      "24\n",
      "25\n",
      "26\n",
      "27\n",
      "28\n",
      "29\n",
      "30\n",
      "31\n",
      "32\n"
     ]
    }
   ],
   "source": [
    "# This code cannot be terminated\n",
    "# by pressing Ctrl-C.\n",
    "\n",
    "from time import sleep\n",
    "\n",
    "seconds = 0\n",
    "\n",
    "while True:\n",
    "    try:\n",
    "        print(seconds)\n",
    "        seconds += 1\n",
    "        sleep(1)\n",
    "    except KeyboardInterrupt:\n",
    "        print(\"Don't do that!\")\n",
    " "
   ]
  },
  {
   "cell_type": "code",
   "execution_count": null,
   "id": "fcd9c5b5",
   "metadata": {},
   "outputs": [
    {
     "name": "stdout",
     "output_type": "stream",
     "text": [
      "2\n",
      "4\n",
      "8\n",
      "16\n",
      "32\n",
      "64\n",
      "128\n",
      "256\n",
      "512\n",
      "1024\n",
      "2048\n",
      "4096\n",
      "8192\n",
      "16384\n",
      "32768\n",
      "65536\n",
      "131072\n",
      "262144\n",
      "524288\n",
      "1048576\n",
      "2097152\n",
      "4194304\n",
      "8388608\n",
      "16777216\n",
      "33554432\n",
      "67108864\n",
      "134217728\n",
      "268435456\n",
      "536870912\n"
     ]
    }
   ],
   "source": [
    "# This code causes the MemoryError exception.\n",
    "# Warning: executing this code may affect your OS.\n",
    "# Don't run it in production environments!\n",
    "\n",
    "string = 'x'\n",
    "try:\n",
    "    while True:\n",
    "        string = string + string\n",
    "        print(len(string))\n",
    "except MemoryError:\n",
    "    print('This is not funny!')\n",
    "\n"
   ]
  },
  {
   "cell_type": "code",
   "execution_count": null,
   "id": "a0933fdf",
   "metadata": {},
   "outputs": [],
   "source": [
    "# The code prints subsequent\n",
    "# values of exp(k), k = 1, 2, 4, 8, 16, ...\n",
    "\n",
    "from math import exp\n",
    "\n",
    "ex = 1\n",
    "\n",
    "try:\n",
    "    while True:\n",
    "        print(exp(ex))\n",
    "        ex *= 2\n",
    "except OverflowError:\n",
    "    print('The number is too big.')\n",
    "\n"
   ]
  }
 ],
 "metadata": {
  "kernelspec": {
   "display_name": "Python 3",
   "language": "python",
   "name": "python3"
  },
  "language_info": {
   "codemirror_mode": {
    "name": "ipython",
    "version": 3
   },
   "file_extension": ".py",
   "mimetype": "text/x-python",
   "name": "python",
   "nbconvert_exporter": "python",
   "pygments_lexer": "ipython3",
   "version": "3.8.8"
  }
 },
 "nbformat": 4,
 "nbformat_minor": 5
}
