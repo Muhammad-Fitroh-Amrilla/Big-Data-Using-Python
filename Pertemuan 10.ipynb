{
 "cells": [
  {
   "cell_type": "code",
   "execution_count": 2,
   "id": "4e6448e2",
   "metadata": {},
   "outputs": [
    {
     "name": "stdout",
     "output_type": "stream",
     "text": [
      "[2, 4, 6, 8, 10]\n"
     ]
    }
   ],
   "source": [
    "my_list = [8, 10, 6, 2, 4]  # list to sort\n",
    "swapped = True  # It's a little fake, we need it to enter the while loop.\n",
    "\n",
    "while swapped:\n",
    "    swapped = False  # no swaps so far\n",
    "    for i in range(len(my_list) - 1):\n",
    "        if my_list[i] > my_list[i + 1]:\n",
    "            swapped = True  # a swap occurred!\n",
    "            my_list[i], my_list[i + 1] = my_list[i + 1], my_list[i]\n",
    "\n",
    "print(my_list)"
   ]
  },
  {
   "cell_type": "code",
   "execution_count": 3,
   "id": "84297097",
   "metadata": {},
   "outputs": [
    {
     "name": "stdout",
     "output_type": "stream",
     "text": [
      "[2, 4, 6, 8, 10]\n"
     ]
    }
   ],
   "source": [
    "my_list = [8, 10, 6, 2, 4]\n",
    "my_list.sort()\n",
    "print(my_list)"
   ]
  },
  {
   "cell_type": "code",
   "execution_count": 5,
   "id": "aad48689",
   "metadata": {},
   "outputs": [
    {
     "name": "stdout",
     "output_type": "stream",
     "text": [
      "How many elements do you want to sort: 4\n",
      "Enter a list element: 1\n",
      "Enter a list element: 2\n",
      "Enter a list element: 9\n",
      "Enter a list element: 4\n",
      "\n",
      "Sorted:\n",
      "[1.0, 2.0, 4.0, 9.0]\n"
     ]
    }
   ],
   "source": [
    "my_list = []\n",
    "swapped = True\n",
    "num = int(input(\"How many elements do you want to sort: \"))\n",
    "\n",
    "for i in range(num):\n",
    "    val = float(input(\"Enter a list element: \"))\n",
    "    my_list.append(val)\n",
    "\n",
    "while swapped:\n",
    "    swapped = False\n",
    "    for i in range(len(my_list) - 1):\n",
    "        if my_list[i] > my_list[i + 1]:\n",
    "            swapped = True\n",
    "            my_list[i], my_list[i + 1] = my_list[i + 1], my_list[i]\n",
    "\n",
    "print(\"\\nSorted:\")\n",
    "print(my_list)"
   ]
  },
  {
   "cell_type": "code",
   "execution_count": 6,
   "id": "8e773f41",
   "metadata": {},
   "outputs": [
    {
     "name": "stdout",
     "output_type": "stream",
     "text": [
      "[5, 3, 1, 2, 4]\n",
      "[1, 2, 3, 4, 5]\n"
     ]
    }
   ],
   "source": [
    "lst = [5, 3, 1, 2, 4]\n",
    "print(lst)\n",
    "\n",
    "lst.sort()\n",
    "print(lst)"
   ]
  },
  {
   "cell_type": "code",
   "execution_count": 7,
   "id": "4c1c4b76",
   "metadata": {},
   "outputs": [
    {
     "name": "stdout",
     "output_type": "stream",
     "text": [
      "[5, 3, 1, 2, 4]\n",
      "[4, 2, 1, 3, 5]\n"
     ]
    }
   ],
   "source": [
    "lst = [5, 3, 1, 2, 4]\n",
    "print(lst)\n",
    "\n",
    "lst.reverse()\n",
    "print(lst)  # outputs: [4, 2, 1, 3, 5]"
   ]
  },
  {
   "cell_type": "code",
   "execution_count": 8,
   "id": "b0453db8",
   "metadata": {},
   "outputs": [
    {
     "name": "stdout",
     "output_type": "stream",
     "text": [
      "['A', 'D', 'F', 'Z']\n"
     ]
    }
   ],
   "source": [
    "# exercise 1\n",
    "lst = [\"D\", \"F\", \"A\", \"Z\"]\n",
    "lst.sort()\n",
    "\n",
    "print(lst)"
   ]
  },
  {
   "cell_type": "code",
   "execution_count": 9,
   "id": "aa385b5e",
   "metadata": {},
   "outputs": [
    {
     "name": "stdout",
     "output_type": "stream",
     "text": [
      "[1, 2, 3]\n"
     ]
    }
   ],
   "source": [
    "# exercise 2\n",
    "a = 3\n",
    "b = 1\n",
    "c = 2\n",
    "\n",
    "lst = [a, c, b]\n",
    "lst.sort()\n",
    "\n",
    "print(lst)"
   ]
  },
  {
   "cell_type": "code",
   "execution_count": 10,
   "id": "a07f67f2",
   "metadata": {},
   "outputs": [
    {
     "name": "stdout",
     "output_type": "stream",
     "text": [
      "[' ', 'C', 'B', 'A']\n"
     ]
    }
   ],
   "source": [
    "# exercise 3\n",
    "a = \"A\"\n",
    "b = \"B\"\n",
    "c = \"C\"\n",
    "d = \" \"\n",
    "\n",
    "lst = [a, b, c, d]\n",
    "lst.reverse()\n",
    "\n",
    "print(lst)"
   ]
  },
  {
   "cell_type": "code",
   "execution_count": 11,
   "id": "3961049e",
   "metadata": {},
   "outputs": [
    {
     "name": "stdout",
     "output_type": "stream",
     "text": [
      "[2]\n"
     ]
    }
   ],
   "source": [
    "list_1 = [1]\n",
    "list_2 = list_1\n",
    "list_1[0] = 2\n",
    "print(list_2)"
   ]
  },
  {
   "cell_type": "code",
   "execution_count": 15,
   "id": "a6c4daa4",
   "metadata": {},
   "outputs": [
    {
     "name": "stdout",
     "output_type": "stream",
     "text": [
      "[1]\n",
      "[8, 6]\n"
     ]
    }
   ],
   "source": [
    "# Copying the entire list.\n",
    "list_1 = [1]\n",
    "list_2 = list_1[:]\n",
    "list_1[0] = 2\n",
    "print(list_2)\n",
    "\n",
    "# Copying some part of the list.\n",
    "my_list = [10, 8, 6, 4, 2]\n",
    "new_list = my_list[1:3]\n",
    "print(new_list)"
   ]
  },
  {
   "cell_type": "code",
   "execution_count": 16,
   "id": "e69da5b8",
   "metadata": {},
   "outputs": [
    {
     "name": "stdout",
     "output_type": "stream",
     "text": [
      "[8, 6, 4]\n"
     ]
    }
   ],
   "source": [
    "my_list = [10, 8, 6, 4, 2]\n",
    "new_list = my_list[1:-1]\n",
    "print(new_list)"
   ]
  },
  {
   "cell_type": "code",
   "execution_count": 18,
   "id": "79418e39",
   "metadata": {},
   "outputs": [
    {
     "name": "stdout",
     "output_type": "stream",
     "text": [
      "[]\n"
     ]
    }
   ],
   "source": [
    "my_list = [10, 8, 6, 4, 2]\n",
    "new_list = my_list[-1:1]\n",
    "print(new_list)"
   ]
  },
  {
   "cell_type": "code",
   "execution_count": 19,
   "id": "82884f67",
   "metadata": {},
   "outputs": [
    {
     "name": "stdout",
     "output_type": "stream",
     "text": [
      "[10, 8, 6]\n"
     ]
    }
   ],
   "source": [
    "my_list = [10, 8, 6, 4, 2]\n",
    "new_list = my_list[:3]\n",
    "print(new_list)"
   ]
  },
  {
   "cell_type": "code",
   "execution_count": 20,
   "id": "9918a9e4",
   "metadata": {},
   "outputs": [
    {
     "name": "stdout",
     "output_type": "stream",
     "text": [
      "[4, 2]\n"
     ]
    }
   ],
   "source": [
    "my_list = [10, 8, 6, 4, 2]\n",
    "new_list = my_list[3:]\n",
    "print(new_list)"
   ]
  },
  {
   "cell_type": "code",
   "execution_count": 21,
   "id": "8a91f214",
   "metadata": {},
   "outputs": [
    {
     "name": "stdout",
     "output_type": "stream",
     "text": [
      "[10, 8, 6, 4, 2]\n"
     ]
    }
   ],
   "source": [
    "my_list = [10, 8, 6, 4, 2]\n",
    "new_list = my_list[:]\n",
    "print(new_list)"
   ]
  },
  {
   "cell_type": "code",
   "execution_count": 22,
   "id": "0aabec42",
   "metadata": {},
   "outputs": [
    {
     "name": "stdout",
     "output_type": "stream",
     "text": [
      "[10, 4, 2]\n"
     ]
    }
   ],
   "source": [
    "my_list = [10, 8, 6, 4, 2]\n",
    "del my_list[1:3]\n",
    "print(my_list)"
   ]
  },
  {
   "cell_type": "code",
   "execution_count": 23,
   "id": "1a5a50f6",
   "metadata": {},
   "outputs": [
    {
     "name": "stdout",
     "output_type": "stream",
     "text": [
      "[]\n"
     ]
    }
   ],
   "source": [
    "my_list = [10, 8, 6, 4, 2]\n",
    "del my_list[:]\n",
    "print(my_list)"
   ]
  },
  {
   "cell_type": "code",
   "execution_count": 24,
   "id": "e90adfb3",
   "metadata": {},
   "outputs": [
    {
     "ename": "NameError",
     "evalue": "name 'my_list' is not defined",
     "output_type": "error",
     "traceback": [
      "\u001b[1;31m---------------------------------------------------------------------------\u001b[0m",
      "\u001b[1;31mNameError\u001b[0m                                 Traceback (most recent call last)",
      "\u001b[1;32m<ipython-input-24-f8f20f4a8756>\u001b[0m in \u001b[0;36m<module>\u001b[1;34m\u001b[0m\n\u001b[0;32m      1\u001b[0m \u001b[0mmy_list\u001b[0m \u001b[1;33m=\u001b[0m \u001b[1;33m[\u001b[0m\u001b[1;36m10\u001b[0m\u001b[1;33m,\u001b[0m \u001b[1;36m8\u001b[0m\u001b[1;33m,\u001b[0m \u001b[1;36m6\u001b[0m\u001b[1;33m,\u001b[0m \u001b[1;36m4\u001b[0m\u001b[1;33m,\u001b[0m \u001b[1;36m2\u001b[0m\u001b[1;33m]\u001b[0m\u001b[1;33m\u001b[0m\u001b[1;33m\u001b[0m\u001b[0m\n\u001b[0;32m      2\u001b[0m \u001b[1;32mdel\u001b[0m \u001b[0mmy_list\u001b[0m\u001b[1;33m\u001b[0m\u001b[1;33m\u001b[0m\u001b[0m\n\u001b[1;32m----> 3\u001b[1;33m \u001b[0mprint\u001b[0m\u001b[1;33m(\u001b[0m\u001b[0mmy_list\u001b[0m\u001b[1;33m)\u001b[0m\u001b[1;33m\u001b[0m\u001b[1;33m\u001b[0m\u001b[0m\n\u001b[0m",
      "\u001b[1;31mNameError\u001b[0m: name 'my_list' is not defined"
     ]
    }
   ],
   "source": [
    "my_list = [10, 8, 6, 4, 2]\n",
    "del my_list\n",
    "print(my_list) # akan error karena list dihapus"
   ]
  },
  {
   "cell_type": "code",
   "execution_count": 25,
   "id": "2d4d2fbe",
   "metadata": {},
   "outputs": [
    {
     "name": "stdout",
     "output_type": "stream",
     "text": [
      "False\n",
      "True\n",
      "True\n"
     ]
    }
   ],
   "source": [
    "my_list = [0, 3, 12, 8, 2]\n",
    "\n",
    "print(5 in my_list)\n",
    "print(5 not in my_list)\n",
    "print(12 in my_list)"
   ]
  },
  {
   "cell_type": "code",
   "execution_count": 28,
   "id": "cecb3dab",
   "metadata": {},
   "outputs": [
    {
     "name": "stdout",
     "output_type": "stream",
     "text": [
      "17\n"
     ]
    }
   ],
   "source": [
    "my_list = [17, 3, 11, 5, 1, 9, 7, 15, 13]\n",
    "largest = my_list[0]\n",
    "\n",
    "for i in my_list:\n",
    "    if i > largest:\n",
    "        largest = i\n",
    "\n",
    "print(largest)"
   ]
  },
  {
   "cell_type": "code",
   "execution_count": 29,
   "id": "6e6709b9",
   "metadata": {},
   "outputs": [
    {
     "name": "stdout",
     "output_type": "stream",
     "text": [
      "17\n"
     ]
    }
   ],
   "source": [
    "my_list = [17, 3, 11, 5, 1, 9, 7, 15, 13]\n",
    "largest = my_list[0]\n",
    "\n",
    "for i in my_list[1:]:\n",
    "    if i > largest:\n",
    "        largest = i\n",
    "\n",
    "print(largest)"
   ]
  },
  {
   "cell_type": "code",
   "execution_count": 30,
   "id": "96876344",
   "metadata": {},
   "outputs": [
    {
     "name": "stdout",
     "output_type": "stream",
     "text": [
      "17\n"
     ]
    }
   ],
   "source": [
    "my_list = [17, 3, 11, 5, 1, 9, 7, 15, 13]\n",
    "largest = my_list[0]\n",
    "\n",
    "for i in range(1, len(my_list)):\n",
    "    if my_list[i] > largest:\n",
    "        largest = my_list[i]\n",
    "\n",
    "print(largest)"
   ]
  },
  {
   "cell_type": "code",
   "execution_count": 31,
   "id": "75b29381",
   "metadata": {},
   "outputs": [
    {
     "name": "stdout",
     "output_type": "stream",
     "text": [
      "Element found at index 4\n"
     ]
    }
   ],
   "source": [
    "my_list = [1, 2, 3, 4, 5, 6, 7, 8, 9, 10]\n",
    "to_find = 5\n",
    "found = False\n",
    "\n",
    "for i in range(len(my_list)):\n",
    "    found = my_list[i] == to_find\n",
    "    if found:\n",
    "        break\n",
    "\n",
    "if found:\n",
    "    print(\"Element found at index\", i)\n",
    "else:\n",
    "    print(\"absent\")"
   ]
  },
  {
   "cell_type": "code",
   "execution_count": 32,
   "id": "41d5b0e5",
   "metadata": {},
   "outputs": [
    {
     "name": "stdout",
     "output_type": "stream",
     "text": [
      "4\n"
     ]
    }
   ],
   "source": [
    "drawn = [5, 11, 9, 42, 3, 49]\n",
    "bets = [3, 7, 11, 42, 34, 49]\n",
    "hits = 0\n",
    "\n",
    "for number in bets:\n",
    "    if number in drawn:\n",
    "        hits += 1\n",
    "\n",
    "print(hits)"
   ]
  },
  {
   "cell_type": "code",
   "execution_count": 57,
   "id": "770e9d57",
   "metadata": {},
   "outputs": [
    {
     "name": "stdout",
     "output_type": "stream",
     "text": [
      "The list with unique elements only:\n",
      "[1, 2, 4, 6, 9]\n",
      "The list with unique elements only:\n",
      "[1, 2, 4, 6, 9]\n"
     ]
    }
   ],
   "source": [
    "# lab\n",
    "my_list = [1, 2, 4, 4, 1, 4, 2, 6, 2, 9, 9]\n",
    "new_list=[]\n",
    "for i in range (len(my_list)):\n",
    "    if my_list[i] not in new_list:\n",
    "        new_list.insert(i,my_list[i])\n",
    "print(\"The list with unique elements only:\")\n",
    "print(new_list)\n",
    "\n",
    "# my_list = [1, 2, 4, 4, 1, 4, 2, 6, 2, 9]\n",
    "# new_list=[]\n",
    "# for i in my_list:\n",
    "#     if i not in new_list:\n",
    "#         new_list.append(i)\n",
    "# print(\"The list with unique elements only:\")\n",
    "# print(new_list)"
   ]
  },
  {
   "cell_type": "code",
   "execution_count": 43,
   "id": "b281512e",
   "metadata": {},
   "outputs": [
    {
     "name": "stdout",
     "output_type": "stream",
     "text": [
      "['car', 'bicycle', 'motor']\n",
      "['bicycle', 'motor']\n"
     ]
    }
   ],
   "source": [
    "vehicles_one = ['car', 'bicycle', 'motor']\n",
    "print(vehicles_one) # outputs: ['car', 'bicycle', 'motor']\n",
    "\n",
    "vehicles_two = vehicles_one\n",
    "del vehicles_one[0] # deletes 'car'\n",
    "print(vehicles_two) # outputs: ['bicycle', 'motor']"
   ]
  },
  {
   "cell_type": "code",
   "execution_count": 44,
   "id": "aa025bee",
   "metadata": {},
   "outputs": [
    {
     "name": "stdout",
     "output_type": "stream",
     "text": [
      "['C', 'D']\n"
     ]
    }
   ],
   "source": [
    "sample_list = [\"A\", \"B\", \"C\", \"D\", \"E\"]\n",
    "new_list = sample_list[2:-1]\n",
    "print(new_list)  # outputs: ['C', 'D']"
   ]
  },
  {
   "cell_type": "code",
   "execution_count": 45,
   "id": "803142f4",
   "metadata": {},
   "outputs": [
    {
     "name": "stdout",
     "output_type": "stream",
     "text": [
      "[3, 4, 5]\n",
      "[1, 2]\n",
      "[4, 5]\n"
     ]
    }
   ],
   "source": [
    "my_list = [1, 2, 3, 4, 5]\n",
    "slice_one = my_list[2: ]\n",
    "slice_two = my_list[ :2]\n",
    "slice_three = my_list[-2: ]\n",
    "\n",
    "print(slice_one)  # outputs: [3, 4, 5]\n",
    "print(slice_two)  # outputs: [1, 2]\n",
    "print(slice_three)  # outputs: [4, 5]"
   ]
  },
  {
   "cell_type": "code",
   "execution_count": 46,
   "id": "ce5ccbe7",
   "metadata": {},
   "outputs": [
    {
     "name": "stdout",
     "output_type": "stream",
     "text": [
      "[3, 4, 5]\n",
      "[]\n"
     ]
    }
   ],
   "source": [
    "my_list = [1, 2, 3, 4, 5]\n",
    "del my_list[0:2]\n",
    "print(my_list)  # outputs: [3, 4, 5]\n",
    "\n",
    "del my_list[:]\n",
    "print(my_list)  # deletes the list content, outputs: []"
   ]
  },
  {
   "cell_type": "code",
   "execution_count": 48,
   "id": "744b8ef0",
   "metadata": {},
   "outputs": [
    {
     "name": "stdout",
     "output_type": "stream",
     "text": [
      "True\n",
      "True\n",
      "False\n"
     ]
    }
   ],
   "source": [
    "my_list = [\"A\", \"B\", 1, 2]\n",
    "\n",
    "print(\"A\" in my_list)  # outputs: True\n",
    "print(\"C\" not in my_list)  # outputs: True\n",
    "print(2 not in my_list)  # outputs: False"
   ]
  },
  {
   "cell_type": "code",
   "execution_count": 49,
   "id": "f10d21f6",
   "metadata": {},
   "outputs": [
    {
     "name": "stdout",
     "output_type": "stream",
     "text": [
      "['C']\n"
     ]
    }
   ],
   "source": [
    "# exercise 1\n",
    "list_1 = [\"A\", \"B\", \"C\"]\n",
    "list_2 = list_1\n",
    "list_3 = list_2\n",
    "\n",
    "del list_1[0]\n",
    "del list_2[0]\n",
    "\n",
    "print(list_3)"
   ]
  },
  {
   "cell_type": "code",
   "execution_count": 50,
   "id": "a77648f0",
   "metadata": {},
   "outputs": [
    {
     "name": "stdout",
     "output_type": "stream",
     "text": [
      "['B', 'C']\n"
     ]
    }
   ],
   "source": [
    "# exercise 2\n",
    "list_1 = [\"A\", \"B\", \"C\"]\n",
    "list_2 = list_1\n",
    "list_3 = list_2\n",
    "\n",
    "del list_1[0]\n",
    "del list_2\n",
    "\n",
    "print(list_3)"
   ]
  },
  {
   "cell_type": "code",
   "execution_count": 51,
   "id": "4773f13a",
   "metadata": {},
   "outputs": [
    {
     "name": "stdout",
     "output_type": "stream",
     "text": [
      "[]\n"
     ]
    }
   ],
   "source": [
    "# exercise 3\n",
    "list_1 = [\"A\", \"B\", \"C\"]\n",
    "list_2 = list_1\n",
    "list_3 = list_2\n",
    "\n",
    "del list_1[0]\n",
    "del list_2[:]\n",
    "\n",
    "print(list_3)"
   ]
  },
  {
   "cell_type": "code",
   "execution_count": 52,
   "id": "4c4c9f92",
   "metadata": {},
   "outputs": [
    {
     "name": "stdout",
     "output_type": "stream",
     "text": [
      "['A', 'B', 'C']\n"
     ]
    }
   ],
   "source": [
    "# exercise 4\n",
    "list_1 = [\"A\", \"B\", \"C\"]\n",
    "list_2 = list_1[:]\n",
    "list_3 = list_2[:]\n",
    "\n",
    "del list_1[0]\n",
    "del list_2[0]\n",
    "\n",
    "print(list_3)"
   ]
  },
  {
   "cell_type": "code",
   "execution_count": 54,
   "id": "ae95f877",
   "metadata": {},
   "outputs": [
    {
     "name": "stdout",
     "output_type": "stream",
     "text": [
      "True\n",
      "True\n",
      "True\n",
      "False\n"
     ]
    }
   ],
   "source": [
    "# exercise 5\n",
    "my_list = [1, 2, \"in\", True, \"ABC\"]\n",
    "\n",
    "print(1 in my_list)  # outputs True\n",
    "print(\"A\" not in my_list)  # outputs True\n",
    "print(3 not in my_list)  # outputs True\n",
    "print(False in my_list)  # outputs False"
   ]
  }
 ],
 "metadata": {
  "kernelspec": {
   "display_name": "Python 3",
   "language": "python",
   "name": "python3"
  },
  "language_info": {
   "codemirror_mode": {
    "name": "ipython",
    "version": 3
   },
   "file_extension": ".py",
   "mimetype": "text/x-python",
   "name": "python",
   "nbconvert_exporter": "python",
   "pygments_lexer": "ipython3",
   "version": "3.8.8"
  }
 },
 "nbformat": 4,
 "nbformat_minor": 5
}
