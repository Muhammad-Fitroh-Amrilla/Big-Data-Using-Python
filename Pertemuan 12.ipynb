{
 "cells": [
  {
   "cell_type": "code",
   "execution_count": 1,
   "id": "f6533fec",
   "metadata": {},
   "outputs": [
    {
     "name": "stdout",
     "output_type": "stream",
     "text": [
      "Hello, my name is James Bond\n",
      "Hello, my name is Luke Skywalker\n"
     ]
    }
   ],
   "source": [
    "def introduction(first_name, last_name):\n",
    "    print(\"Hello, my name is\", first_name, last_name)\n",
    "\n",
    "introduction(first_name = \"James\", last_name = \"Bond\") #nama parameter harus sama\n",
    "introduction(last_name = \"Skywalker\", first_name = \"Luke\")"
   ]
  },
  {
   "cell_type": "code",
   "execution_count": 12,
   "id": "fc430c16",
   "metadata": {},
   "outputs": [
    {
     "name": "stdout",
     "output_type": "stream",
     "text": [
      "1 + 2 + 3 = 6\n",
      "2 + 3 + 1 = 6\n",
      "3 + 2 + 1 = 6\n",
      "4 + 3 + 2 = 9\n"
     ]
    }
   ],
   "source": [
    "def adding(a, b, c):\n",
    "    print(a, \"+\", b, \"+\", c, \"=\", a + b + c)\n",
    "adding(1, 2, 3)\n",
    "adding(c = 1, a = 2, b = 3)\n",
    "adding(3, c = 1, b = 2)\n",
    "# adding(3, a = 1, b = 2) error karena mendefinisikan a 2x\n",
    "adding(4, 3, c = 2)"
   ]
  },
  {
   "cell_type": "code",
   "execution_count": 14,
   "id": "fa5e5118",
   "metadata": {},
   "outputs": [
    {
     "name": "stdout",
     "output_type": "stream",
     "text": [
      "Hello, my name is James Doe\n",
      "Hello, my name is Henry Smith\n",
      "Hello, my name is William Smith\n"
     ]
    }
   ],
   "source": [
    "def introduction(first_name, last_name=\"Smith\"):\n",
    "    print(\"Hello, my name is\", first_name, last_name)\n",
    "introduction(\"James\", \"Doe\")\n",
    "introduction(\"Henry\")\n",
    "introduction(first_name=\"William\")"
   ]
  },
  {
   "cell_type": "code",
   "execution_count": 15,
   "id": "6b900c45",
   "metadata": {},
   "outputs": [
    {
     "name": "stdout",
     "output_type": "stream",
     "text": [
      "Hello, my name is John Smith\n"
     ]
    }
   ],
   "source": [
    "def introduction(first_name=\"John\", last_name=\"Smith\"):\n",
    "    print(\"Hello, my name is\", first_name, last_name)\n",
    "introduction()"
   ]
  },
  {
   "cell_type": "code",
   "execution_count": 16,
   "id": "1ee08afb",
   "metadata": {},
   "outputs": [
    {
     "name": "stdout",
     "output_type": "stream",
     "text": [
      "Hi, Greg\n"
     ]
    }
   ],
   "source": [
    "def hi(name):\n",
    "    print(\"Hi,\", name)\n",
    "\n",
    "hi(\"Greg\")"
   ]
  },
  {
   "cell_type": "code",
   "execution_count": 18,
   "id": "486d3379",
   "metadata": {},
   "outputs": [
    {
     "name": "stdout",
     "output_type": "stream",
     "text": [
      "Hi, Konrad\n",
      "Hi, Sebastian\n"
     ]
    }
   ],
   "source": [
    "def hi_all(name_1, name_2):\n",
    "    print(\"Hi,\", name_2)\n",
    "    print(\"Hi,\", name_1)\n",
    "\n",
    "hi_all(\"Sebastian\", \"Konrad\")"
   ]
  },
  {
   "cell_type": "code",
   "execution_count": 19,
   "id": "b2daf039",
   "metadata": {},
   "outputs": [
    {
     "name": "stdout",
     "output_type": "stream",
     "text": [
      "Street: Bird\n",
      "Postal Code: 12324\n",
      "City: LA\n",
      "Your address is: Bird St., LA 12324\n"
     ]
    }
   ],
   "source": [
    "def address(street, city, postal_code):\n",
    "    print(\"Your address is:\", street, \"St.,\", city, postal_code)\n",
    "\n",
    "s = input(\"Street: \")\n",
    "p_c = input(\"Postal Code: \")\n",
    "c = input(\"City: \")\n",
    "\n",
    "address(s, c, p_c)"
   ]
  },
  {
   "cell_type": "code",
   "execution_count": 21,
   "id": "7d061db8",
   "metadata": {},
   "outputs": [
    {
     "name": "stdout",
     "output_type": "stream",
     "text": [
      "3\n",
      "-3\n",
      "3\n",
      "3\n",
      "3\n",
      "3\n"
     ]
    }
   ],
   "source": [
    "# Ex. 1\n",
    "def subtra(a, b):\n",
    "    print(a - b)\n",
    "\n",
    "subtra(5, 2)    # outputs: 3\n",
    "subtra(2, 5)    # outputs: -3\n",
    "\n",
    "\n",
    "# Ex. 2\n",
    "def subtra(a, b):\n",
    "    print(a - b)\n",
    "\n",
    "subtra(a=5, b=2)    # outputs: 3\n",
    "subtra(b=2, a=5)    # outputs: 3\n",
    "\n",
    "# Ex. 3\n",
    "def subtra(a, b):\n",
    "    print(a - b)\n",
    "\n",
    "subtra(5, b=2)    # outputs: 3\n",
    "subtra(5, 2)    # outputs: 3"
   ]
  },
  {
   "cell_type": "code",
   "execution_count": 22,
   "id": "16fc7ed4",
   "metadata": {},
   "outputs": [
    {
     "name": "stdout",
     "output_type": "stream",
     "text": [
      "Andy Smith\n",
      "Betty Johnson\n"
     ]
    }
   ],
   "source": [
    "def name(first_name, last_name=\"Smith\"):\n",
    "    print(first_name, last_name)\n",
    "\n",
    "name(\"Andy\")    # outputs: Andy Smith\n",
    "name(\"Betty\", \"Johnson\")    # outputs: Betty Johnson (the keyword argument replaced by \"Johnson\")\n"
   ]
  },
  {
   "cell_type": "code",
   "execution_count": 23,
   "id": "6ef452fe",
   "metadata": {},
   "outputs": [
    {
     "name": "stdout",
     "output_type": "stream",
     "text": [
      "My name is Bond. James Bond.\n"
     ]
    }
   ],
   "source": [
    "# exercise 1\n",
    "def intro(a=\"James Bond\", b=\"Bond\"):\n",
    "    print(\"My name is\", b + \".\", a + \".\")\n",
    "\n",
    "intro()\n"
   ]
  },
  {
   "cell_type": "code",
   "execution_count": 24,
   "id": "63b3dbea",
   "metadata": {},
   "outputs": [
    {
     "name": "stdout",
     "output_type": "stream",
     "text": [
      "My name is Sean Connery. James Bond.\n"
     ]
    }
   ],
   "source": [
    "# exercise 2\n",
    "def intro(a=\"James Bond\", b=\"Bond\"):\n",
    "    print(\"My name is\", b + \".\", a + \".\")\n",
    "\n",
    "intro(b=\"Sean Connery\")"
   ]
  },
  {
   "cell_type": "code",
   "execution_count": 25,
   "id": "5daa3bcf",
   "metadata": {},
   "outputs": [
    {
     "name": "stdout",
     "output_type": "stream",
     "text": [
      "My name is Bond. Susan.\n"
     ]
    }
   ],
   "source": [
    "# exercise 3\n",
    "def intro(a, b=\"Bond\"):\n",
    "    print(\"My name is\", b + \".\", a + \".\")\n",
    "\n",
    "intro(\"Susan\")\n"
   ]
  },
  {
   "cell_type": "code",
   "execution_count": 26,
   "id": "102d4a0f",
   "metadata": {},
   "outputs": [
    {
     "ename": "SyntaxError",
     "evalue": "non-default argument follows default argument (<ipython-input-26-baf28da15cd4>, line 1)",
     "output_type": "error",
     "traceback": [
      "\u001b[1;36m  File \u001b[1;32m\"<ipython-input-26-baf28da15cd4>\"\u001b[1;36m, line \u001b[1;32m1\u001b[0m\n\u001b[1;33m    def add_numbers(a, b=2, c):\u001b[0m\n\u001b[1;37m                    ^\u001b[0m\n\u001b[1;31mSyntaxError\u001b[0m\u001b[1;31m:\u001b[0m non-default argument follows default argument\n"
     ]
    }
   ],
   "source": [
    "# exercise 4\n",
    "def add_numbers(a, b=2, c):\n",
    "    print(a + b + c)\n",
    "\n",
    "add_numbers(a=1, c=3)"
   ]
  },
  {
   "cell_type": "code",
   "execution_count": 28,
   "id": "407063ab",
   "metadata": {},
   "outputs": [
    {
     "name": "stdout",
     "output_type": "stream",
     "text": [
      "Three...\n",
      "Two...\n",
      "One...\n",
      "Happy New Year!\n"
     ]
    }
   ],
   "source": [
    "def happy_new_year(wishes = True):\n",
    "    print(\"Three...\")\n",
    "    print(\"Two...\")\n",
    "    print(\"One...\")\n",
    "    if not wishes:\n",
    "        return\n",
    "    \n",
    "    print(\"Happy New Year!\")\n",
    "\n",
    "happy_new_year()"
   ]
  },
  {
   "cell_type": "code",
   "execution_count": 30,
   "id": "56021503",
   "metadata": {},
   "outputs": [
    {
     "name": "stdout",
     "output_type": "stream",
     "text": [
      "The boring_function has returned its result. It's: 123\n"
     ]
    }
   ],
   "source": [
    "def boring_function():\n",
    "    return 123\n",
    "\n",
    "x = boring_function()\n",
    "\n",
    "print(\"The boring_function has returned its result. It's:\", x)"
   ]
  },
  {
   "cell_type": "code",
   "execution_count": 31,
   "id": "de4c8f07",
   "metadata": {},
   "outputs": [
    {
     "name": "stdout",
     "output_type": "stream",
     "text": [
      "This lesson is interesting!\n",
      "'Boredom Mode' ON.\n",
      "This lesson is boring...\n"
     ]
    }
   ],
   "source": [
    "def boring_function():\n",
    "    print(\"'Boredom Mode' ON.\")\n",
    "    return 123\n",
    "\n",
    "print(\"This lesson is interesting!\")\n",
    "boring_function()\n",
    "print(\"This lesson is boring...\")"
   ]
  },
  {
   "cell_type": "code",
   "execution_count": 33,
   "id": "d4189a92",
   "metadata": {},
   "outputs": [
    {
     "name": "stdout",
     "output_type": "stream",
     "text": [
      "Sorry, you don't carry any value\n"
     ]
    }
   ],
   "source": [
    "value = None\n",
    "if value is None:\n",
    "    print(\"Sorry, you don't carry any value\")"
   ]
  },
  {
   "cell_type": "code",
   "execution_count": 34,
   "id": "979bb1d2",
   "metadata": {},
   "outputs": [
    {
     "name": "stdout",
     "output_type": "stream",
     "text": [
      "True\n",
      "None\n"
     ]
    }
   ],
   "source": [
    "def strange_function(n):\n",
    "    if(n % 2 == 0):\n",
    "        return True\n",
    "print(strange_function(2))\n",
    "print(strange_function(1))"
   ]
  },
  {
   "cell_type": "code",
   "execution_count": 36,
   "id": "0def8e56",
   "metadata": {},
   "outputs": [
    {
     "name": "stdout",
     "output_type": "stream",
     "text": [
      "12\n"
     ]
    }
   ],
   "source": [
    "def list_sum(lst):\n",
    "    s = 0\n",
    "    \n",
    "    for elem in lst:\n",
    "        s += elem\n",
    "    \n",
    "    return s\n",
    "print(list_sum([5, 4, 3]))"
   ]
  },
  {
   "cell_type": "code",
   "execution_count": 38,
   "id": "14761041",
   "metadata": {},
   "outputs": [
    {
     "name": "stdout",
     "output_type": "stream",
     "text": [
      "[4, 3, 2, 1, 0]\n"
     ]
    }
   ],
   "source": [
    "def strange_list_fun(n):\n",
    "    strange_list = []\n",
    "    \n",
    "    for i in range(0, n):\n",
    "        strange_list.insert(0, i)\n",
    "    \n",
    "    return strange_list\n",
    "\n",
    "print(strange_list_fun(5))"
   ]
  },
  {
   "cell_type": "code",
   "execution_count": 7,
   "id": "23abe952",
   "metadata": {},
   "outputs": [
    {
     "name": "stdout",
     "output_type": "stream",
     "text": [
      "1900 ->OK\n",
      "2000 ->OK\n",
      "2016 ->OK\n",
      "1987 ->OK\n"
     ]
    }
   ],
   "source": [
    "# Lab\n",
    "def is_year_leap(year):\n",
    "    if (year%4 != 0):\n",
    "        return False\n",
    "    elif year%100 !=0:\n",
    "        return True\n",
    "    elif (year%400 !=0):\n",
    "        return False\n",
    "    else:\n",
    "        return True\n",
    "        \n",
    "test_data = [1900, 2000, 2016, 1987]\n",
    "test_results = [False, True, True, False]\n",
    "for i in range(len(test_data)):\n",
    "    yr = test_data[i]\n",
    "    print(yr,\"->\",end=\"\")\n",
    "    result = is_year_leap(yr)\n",
    "    if result == test_results[i]:\n",
    "        print(\"OK\")\n",
    "    else:\n",
    "        print(\"Failed\")\n"
   ]
  },
  {
   "cell_type": "code",
   "execution_count": 13,
   "id": "0dbbbbda",
   "metadata": {},
   "outputs": [
    {
     "name": "stdout",
     "output_type": "stream",
     "text": [
      "1900 2 ->OK\n",
      "2000 2 ->OK\n",
      "2016 1 ->OK\n",
      "1987 11 ->OK\n"
     ]
    }
   ],
   "source": [
    "# Lab\n",
    "def is_year_leap(year):\n",
    "    if (year%4 != 0):\n",
    "        return False\n",
    "    elif year%100 !=0:\n",
    "        return True\n",
    "    elif (year%400 !=0):\n",
    "        return False\n",
    "    else:\n",
    "        return True\n",
    "\n",
    "def days_in_month(year, month):\n",
    "    month_len =[31,28,31,30,31,30,31,31,30,31,30,31]\n",
    "    if is_year_leap(year) == True:\n",
    "        if month==2:\n",
    "            return month_len[month-1]+1\n",
    "        else:\n",
    "            return month_len[month-1]\n",
    "    else:\n",
    "        return month_len[month-1]\n",
    "    \n",
    "test_years = [1900, 2000, 2016, 1987]\n",
    "test_months = [2, 2, 1, 11]\n",
    "test_results = [28, 29, 31, 30]\n",
    "for i in range(len(test_years)):\n",
    "    yr = test_years[i]\n",
    "    mo = test_months[i]\n",
    "    print(yr, mo, \"->\", end=\"\")\n",
    "    result = days_in_month(yr, mo)\n",
    "    if result == test_results[i]:\n",
    "        print(\"OK\")\n",
    "    else:\n",
    "        print(\"Failed\")"
   ]
  }
 ],
 "metadata": {
  "kernelspec": {
   "display_name": "Python 3",
   "language": "python",
   "name": "python3"
  },
  "language_info": {
   "codemirror_mode": {
    "name": "ipython",
    "version": 3
   },
   "file_extension": ".py",
   "mimetype": "text/x-python",
   "name": "python",
   "nbconvert_exporter": "python",
   "pygments_lexer": "ipython3",
   "version": "3.8.8"
  }
 },
 "nbformat": 4,
 "nbformat_minor": 5
}
