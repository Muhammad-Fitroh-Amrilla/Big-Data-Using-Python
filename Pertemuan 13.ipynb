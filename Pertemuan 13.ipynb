{
 "cells": [
  {
   "cell_type": "code",
   "execution_count": 14,
   "id": "6dfac62b",
   "metadata": {},
   "outputs": [
    {
     "name": "stdout",
     "output_type": "stream",
     "text": [
      "366\n",
      "365\n",
      "365\n"
     ]
    }
   ],
   "source": [
    "# lab\n",
    "def is_year_leap(year):\n",
    "    if (year%4 != 0):\n",
    "        return False\n",
    "    elif year%100 !=0:\n",
    "        return True\n",
    "    elif (year%400 !=0):\n",
    "        return False\n",
    "    else:\n",
    "        return True\n",
    "\n",
    "def days_in_month(year, month):\n",
    "    month_len =[31,28,31,30,31,30,31,31,30,31,30,31]\n",
    "    if is_year_leap(year) == True:\n",
    "        if month==2:\n",
    "            return month_len[month-1]+1\n",
    "        else:\n",
    "            return month_len[month-1]\n",
    "    else:\n",
    "        return month_len[month-1]\n",
    "\n",
    "def day_of_year(year, month, day):\n",
    "        if days_in_month(year,month) == day:\n",
    "            if is_year_leap(year) == True:\n",
    "                return 366\n",
    "            else:\n",
    "                return 365\n",
    "        else:\n",
    "            return None\n",
    "        \n",
    "print(day_of_year(2000, 12, 31))\n",
    "print(day_of_year(1900,2,28))\n",
    "print(day_of_year(2021,1,31))"
   ]
  },
  {
   "cell_type": "code",
   "execution_count": 51,
   "id": "7c143b82",
   "metadata": {},
   "outputs": [
    {
     "name": "stdout",
     "output_type": "stream",
     "text": [
      "2 3 5 7 11 13 17 19 \n"
     ]
    }
   ],
   "source": [
    "def is_prime (num):\n",
    "    for i in range(2, num):\n",
    "        if num % i == 0:\n",
    "            return False\n",
    "    return True\n",
    "\n",
    "for i in range(1, 20):\n",
    "    if is_prime(i + 1):\n",
    "        print(i + 1, end=\" \")\n",
    "print()\n"
   ]
  },
  {
   "cell_type": "code",
   "execution_count": 24,
   "id": "c8e1c6be",
   "metadata": {},
   "outputs": [
    {
     "name": "stdout",
     "output_type": "stream",
     "text": [
      "60.311431623931625\n",
      "31.36194444444444\n",
      "23.52145833333333\n",
      "3.9007393587617467\n",
      "7.490910297239915\n",
      "10.009131205673757\n"
     ]
    }
   ],
   "source": [
    "# lab\n",
    "def liters_100km_to_miles_gallon(liters):\n",
    "    return (100000/1609.344)*(3.785411784/liters)\n",
    "\n",
    "def miles_gallon_to_liters_100km(miles):\n",
    "    return (100000*3.785411784)/(miles*1609.344)\n",
    "\n",
    "print(liters_100km_to_miles_gallon(3.9))\n",
    "print(liters_100km_to_miles_gallon(7.5))\n",
    "print(liters_100km_to_miles_gallon(10.))\n",
    "print(miles_gallon_to_liters_100km(60.3))\n",
    "print(miles_gallon_to_liters_100km(31.4))\n",
    "print(miles_gallon_to_liters_100km(23.5))"
   ]
  },
  {
   "cell_type": "code",
   "execution_count": 26,
   "id": "bb79357d",
   "metadata": {},
   "outputs": [
    {
     "name": "stdout",
     "output_type": "stream",
     "text": [
      "12\n",
      "None\n"
     ]
    }
   ],
   "source": [
    "def multiply(a, b):\n",
    "    return a * b\n",
    "\n",
    "print(multiply(3, 4))    # outputs: 12\n",
    "\n",
    "\n",
    "def multiply(a, b):\n",
    "    return\n",
    "\n",
    "print(multiply(3, 4))    # outputs: None\n",
    "\n"
   ]
  },
  {
   "cell_type": "code",
   "execution_count": 28,
   "id": "d7e61b59",
   "metadata": {},
   "outputs": [
    {
     "name": "stdout",
     "output_type": "stream",
     "text": [
      "Happy Birthday!\n"
     ]
    }
   ],
   "source": [
    "def wishes():\n",
    "    return \"Happy Birthday!\"\n",
    "\n",
    "w = wishes()\n",
    "\n",
    "print(w)    # outputs: Happy Birthday!"
   ]
  },
  {
   "cell_type": "code",
   "execution_count": 31,
   "id": "95fa5723",
   "metadata": {},
   "outputs": [
    {
     "name": "stdout",
     "output_type": "stream",
     "text": [
      "My Wishes\n",
      "My Wishes\n",
      "Happy Birthday\n"
     ]
    }
   ],
   "source": [
    "# Example 1\n",
    "def wishes():\n",
    "    print(\"My Wishes\")\n",
    "    return \"Happy Birthday\"\n",
    "\n",
    "wishes()    # outputs: My Wishes\n",
    "\n",
    "\n",
    "# Example 2\n",
    "def wishes():\n",
    "    print(\"My Wishes\")\n",
    "    return \"Happy Birthday\"\n",
    "\n",
    "print(wishes())\n",
    "\n",
    "# outputs: My Wishes\n",
    "#          Happy Birthday"
   ]
  },
  {
   "cell_type": "code",
   "execution_count": 33,
   "id": "166e1be5",
   "metadata": {},
   "outputs": [
    {
     "name": "stdout",
     "output_type": "stream",
     "text": [
      "Hi, Adam\n",
      "Hi, John\n",
      "Hi, Lucy\n"
     ]
    }
   ],
   "source": [
    "def hi_everybody(my_list):\n",
    "    for name in my_list:\n",
    "        print(\"Hi,\", name)\n",
    "\n",
    "hi_everybody([\"Adam\", \"John\", \"Lucy\"])"
   ]
  },
  {
   "cell_type": "code",
   "execution_count": 34,
   "id": "650c2e51",
   "metadata": {},
   "outputs": [
    {
     "name": "stdout",
     "output_type": "stream",
     "text": [
      "[0, 1, 2, 3, 4]\n"
     ]
    }
   ],
   "source": [
    "def create_list(n):\n",
    "    my_list = []\n",
    "    for i in range(n):\n",
    "        my_list.append(i)\n",
    "    return my_list\n",
    "\n",
    "print(create_list(5))\n",
    "\n"
   ]
  },
  {
   "cell_type": "code",
   "execution_count": 36,
   "id": "9931ecc8",
   "metadata": {},
   "outputs": [],
   "source": [
    "# exercise 1\n",
    "def hi():\n",
    "    return\n",
    "    print(\"Hi!\")\n",
    "\n",
    "hi()"
   ]
  },
  {
   "cell_type": "code",
   "execution_count": 38,
   "id": "1bf8b394",
   "metadata": {},
   "outputs": [
    {
     "name": "stdout",
     "output_type": "stream",
     "text": [
      "True\n",
      "False\n",
      "None\n"
     ]
    }
   ],
   "source": [
    "# exercise 2\n",
    "def is_int(data):\n",
    "    if type(data) == int:\n",
    "        return True\n",
    "    elif type(data) == float:\n",
    "        return False\n",
    "\n",
    "print(is_int(5))\n",
    "print(is_int(5.0))\n",
    "print(is_int(\"5\"))"
   ]
  },
  {
   "cell_type": "code",
   "execution_count": 39,
   "id": "c37fbffa",
   "metadata": {},
   "outputs": [
    {
     "name": "stdout",
     "output_type": "stream",
     "text": [
      "[0, 2, 4, 6, 8, 10]\n"
     ]
    }
   ],
   "source": [
    "# exercise 3\n",
    "def even_num_lst(ran):\n",
    "    lst = []\n",
    "    for num in range(ran):\n",
    "        if num % 2 == 0:\n",
    "            lst.append(num)\n",
    "    return lst\n",
    "\n",
    "print(even_num_lst(11))"
   ]
  },
  {
   "cell_type": "code",
   "execution_count": 40,
   "id": "444c0265",
   "metadata": {},
   "outputs": [
    {
     "name": "stdout",
     "output_type": "stream",
     "text": [
      "[1, 4, 9, 16, 25]\n"
     ]
    }
   ],
   "source": [
    "# exercise 4\n",
    "def list_updater(lst):\n",
    "    upd_list = []\n",
    "    for elem in lst:\n",
    "        elem **= 2\n",
    "        upd_list.append(elem)\n",
    "    return upd_list\n",
    "\n",
    "foo = [1, 2, 3, 4, 5]\n",
    "print(list_updater(foo))"
   ]
  },
  {
   "cell_type": "code",
   "execution_count": 53,
   "id": "b2189311",
   "metadata": {},
   "outputs": [
    {
     "name": "stdout",
     "output_type": "stream",
     "text": [
      "Do I know that variable? 1\n",
      "1\n"
     ]
    }
   ],
   "source": [
    "def my_function():\n",
    "    print(\"Do I know that variable?\", var)\n",
    "\n",
    "\n",
    "var = 1\n",
    "my_function()\n",
    "print(var)\n"
   ]
  },
  {
   "cell_type": "code",
   "execution_count": 54,
   "id": "c3f4df55",
   "metadata": {},
   "outputs": [
    {
     "name": "stdout",
     "output_type": "stream",
     "text": [
      "Do I know that variable? 2\n",
      "2\n"
     ]
    }
   ],
   "source": [
    "def my_function():\n",
    "    global var\n",
    "    var = 2\n",
    "    print(\"Do I know that variable?\", var)\n",
    "\n",
    "\n",
    "var = 1\n",
    "my_function()\n",
    "print(var)\n"
   ]
  },
  {
   "cell_type": "code",
   "execution_count": 55,
   "id": "c75b47e7",
   "metadata": {},
   "outputs": [
    {
     "name": "stdout",
     "output_type": "stream",
     "text": [
      "I got 1\n",
      "I have 2\n",
      "1\n"
     ]
    }
   ],
   "source": [
    "def my_function(n):\n",
    "    print(\"I got\", n)\n",
    "    n += 1\n",
    "    print(\"I have\", n)\n",
    "\n",
    "\n",
    "var = 1\n",
    "my_function(var)\n",
    "print(var)\n"
   ]
  },
  {
   "cell_type": "code",
   "execution_count": 60,
   "id": "10f8d3e3",
   "metadata": {},
   "outputs": [
    {
     "name": "stdout",
     "output_type": "stream",
     "text": [
      "Print #1: [2, 3]\n",
      "Print #2: [2, 3]\n",
      "Print #3: [0, 1]\n",
      "Print #4: [2, 3]\n",
      "Print #5: [2, 3]\n"
     ]
    }
   ],
   "source": [
    "def my_function(my_list_1):\n",
    "    print(\"Print #1:\", my_list_1)\n",
    "    print(\"Print #2:\", my_list_2)\n",
    "    my_list_1 = [0, 1]\n",
    "    print(\"Print #3:\", my_list_1)\n",
    "    print(\"Print #4:\", my_list_2)\n",
    "\n",
    "\n",
    "my_list_2 = [2, 3]\n",
    "my_function(my_list_2)\n",
    "print(\"Print #5:\", my_list_2)\n",
    "\n"
   ]
  },
  {
   "cell_type": "code",
   "execution_count": 62,
   "id": "ac293682",
   "metadata": {},
   "outputs": [
    {
     "name": "stdout",
     "output_type": "stream",
     "text": [
      "Print #1: [2, 3]\n",
      "Print #2: [2, 3]\n",
      "Print #3: [3]\n",
      "Print #4: [3]\n",
      "Print #5: [3]\n"
     ]
    }
   ],
   "source": [
    "def my_function(my_list_1):\n",
    "    print(\"Print #1:\", my_list_1)\n",
    "    print(\"Print #2:\", my_list_2)\n",
    "    del my_list_1[0]  # Pay attention to this line.\n",
    "    print(\"Print #3:\", my_list_1)\n",
    "    print(\"Print #4:\", my_list_2)\n",
    "\n",
    "\n",
    "my_list_2 = [2, 3]\n",
    "my_function(my_list_2)\n",
    "print(\"Print #5:\", my_list_2)"
   ]
  },
  {
   "cell_type": "code",
   "execution_count": 64,
   "id": "469243dc",
   "metadata": {},
   "outputs": [
    {
     "name": "stdout",
     "output_type": "stream",
     "text": [
      "14\n"
     ]
    }
   ],
   "source": [
    "var = 2\n",
    "\n",
    "\n",
    "def mult_by_var(x):\n",
    "    return x * var\n",
    "\n",
    "\n",
    "print(mult_by_var(7))    # outputs: 14"
   ]
  },
  {
   "cell_type": "code",
   "execution_count": 65,
   "id": "beb1742f",
   "metadata": {},
   "outputs": [
    {
     "name": "stdout",
     "output_type": "stream",
     "text": [
      "35\n"
     ]
    }
   ],
   "source": [
    "def mult(x):\n",
    "    var = 5\n",
    "    return x * var\n",
    "\n",
    "\n",
    "print(mult(7))    # outputs: 35"
   ]
  },
  {
   "cell_type": "code",
   "execution_count": 67,
   "id": "ee4de3a3",
   "metadata": {},
   "outputs": [
    {
     "name": "stdout",
     "output_type": "stream",
     "text": [
      "49\n"
     ]
    }
   ],
   "source": [
    "def mult(x):\n",
    "    var = 7\n",
    "    return x * var\n",
    "\n",
    "\n",
    "var = 3\n",
    "print(mult(7))    # outputs: 49"
   ]
  },
  {
   "cell_type": "code",
   "execution_count": 74,
   "id": "088b3b8a",
   "metadata": {},
   "outputs": [
    {
     "name": "stdout",
     "output_type": "stream",
     "text": [
      "11\n",
      "5\n"
     ]
    }
   ],
   "source": [
    "def adding(x):\n",
    "    var = 7\n",
    "    return x + var\n",
    "\n",
    "\n",
    "print(adding(4))    # outputs: 11\n",
    "print(var)    # NameError (harusnya error keluar nilai karena cell yg lain sudah didefinisikan di cell lain)"
   ]
  },
  {
   "cell_type": "code",
   "execution_count": 72,
   "id": "3b87b806",
   "metadata": {},
   "outputs": [
    {
     "name": "stdout",
     "output_type": "stream",
     "text": [
      "2\n",
      "5\n",
      "5\n"
     ]
    }
   ],
   "source": [
    "var = 2\n",
    "print(var)    # outputs: 2\n",
    "\n",
    "\n",
    "def return_var():\n",
    "    global var\n",
    "    var = 5\n",
    "    return var\n",
    "\n",
    "\n",
    "print(return_var())    # outputs: 5\n",
    "print(var)    # outputs: 5\n",
    "\n"
   ]
  },
  {
   "cell_type": "code",
   "execution_count": 76,
   "id": "2237c936",
   "metadata": {},
   "outputs": [
    {
     "ename": "NameError",
     "evalue": "name 'alt' is not defined",
     "output_type": "error",
     "traceback": [
      "\u001b[1;31m---------------------------------------------------------------------------\u001b[0m",
      "\u001b[1;31mNameError\u001b[0m                                 Traceback (most recent call last)",
      "\u001b[1;32m<ipython-input-76-34d3a46a7b58>\u001b[0m in \u001b[0;36m<module>\u001b[1;34m\u001b[0m\n\u001b[0;32m      5\u001b[0m \u001b[1;33m\u001b[0m\u001b[0m\n\u001b[0;32m      6\u001b[0m \u001b[1;33m\u001b[0m\u001b[0m\n\u001b[1;32m----> 7\u001b[1;33m \u001b[0mprint\u001b[0m\u001b[1;33m(\u001b[0m\u001b[0malt\u001b[0m\u001b[1;33m)\u001b[0m\u001b[1;33m\u001b[0m\u001b[1;33m\u001b[0m\u001b[0m\n\u001b[0m",
      "\u001b[1;31mNameError\u001b[0m: name 'alt' is not defined"
     ]
    }
   ],
   "source": [
    "# exercise 1\n",
    "def message():\n",
    "    alt = 1\n",
    "    print(\"Hello, World!\")\n",
    "\n",
    "\n",
    "print(alt)"
   ]
  },
  {
   "cell_type": "code",
   "execution_count": 78,
   "id": "fb838671",
   "metadata": {},
   "outputs": [
    {
     "name": "stdout",
     "output_type": "stream",
     "text": [
      "2\n",
      "1\n"
     ]
    }
   ],
   "source": [
    "# exercise 2\n",
    "a = 1\n",
    "\n",
    "\n",
    "def fun():\n",
    "    a = 2\n",
    "    print(a)\n",
    "\n",
    "\n",
    "fun()\n",
    "print(a)"
   ]
  },
  {
   "cell_type": "code",
   "execution_count": 80,
   "id": "adb7ce6e",
   "metadata": {},
   "outputs": [
    {
     "name": "stdout",
     "output_type": "stream",
     "text": [
      "2\n",
      "3\n"
     ]
    }
   ],
   "source": [
    "# exercise 3\n",
    "a = 1\n",
    "\n",
    "\n",
    "def fun():\n",
    "    global a\n",
    "    a = 2\n",
    "    print(a)\n",
    "\n",
    "\n",
    "fun()\n",
    "a = 3\n",
    "print(a)"
   ]
  },
  {
   "cell_type": "code",
   "execution_count": 81,
   "id": "e2cc6ec0",
   "metadata": {},
   "outputs": [
    {
     "name": "stdout",
     "output_type": "stream",
     "text": [
      "2\n",
      "2\n"
     ]
    }
   ],
   "source": [
    "# exercise 4\n",
    "a = 1\n",
    "\n",
    "\n",
    "def fun():\n",
    "    global a\n",
    "    a = 2\n",
    "    print(a)\n",
    "\n",
    "\n",
    "a = 3\n",
    "fun()\n",
    "print(a)"
   ]
  }
 ],
 "metadata": {
  "kernelspec": {
   "display_name": "Python 3",
   "language": "python",
   "name": "python3"
  },
  "language_info": {
   "codemirror_mode": {
    "name": "ipython",
    "version": 3
   },
   "file_extension": ".py",
   "mimetype": "text/x-python",
   "name": "python",
   "nbconvert_exporter": "python",
   "pygments_lexer": "ipython3",
   "version": "3.8.8"
  }
 },
 "nbformat": 4,
 "nbformat_minor": 5
}
