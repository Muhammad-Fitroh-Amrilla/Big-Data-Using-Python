{
 "cells": [
  {
   "cell_type": "code",
   "execution_count": 10,
   "id": "1fb166d2",
   "metadata": {},
   "outputs": [
    {
     "name": "stdout",
     "output_type": "stream",
     "text": [
      "83\n",
      "291\n"
     ]
    }
   ],
   "source": [
    "print(0o123) #octal\n",
    "print(0x123) #hexadecimal"
   ]
  },
  {
   "cell_type": "code",
   "execution_count": 4,
   "id": "c2081798",
   "metadata": {},
   "outputs": [
    {
     "name": "stdout",
     "output_type": "stream",
     "text": [
      "1e-22\n"
     ]
    }
   ],
   "source": [
    "#float\n",
    "print(0.0000000000000000000001) #ekponensial"
   ]
  },
  {
   "cell_type": "code",
   "execution_count": 9,
   "id": "be752349",
   "metadata": {},
   "outputs": [
    {
     "name": "stdout",
     "output_type": "stream",
     "text": [
      "I like \"Monty Python\"\n",
      "I'm Monty Python\n"
     ]
    }
   ],
   "source": [
    "#String\n",
    "print(\"I like \\\"Monty Python\\\"\")\n",
    "print('I\\'m Monty Python')"
   ]
  },
  {
   "cell_type": "code",
   "execution_count": 13,
   "id": "aeb2b825",
   "metadata": {},
   "outputs": [
    {
     "name": "stdout",
     "output_type": "stream",
     "text": [
      "True\n",
      "False\n",
      "False\n"
     ]
    }
   ],
   "source": [
    "#boolean\n",
    "print(True > False)\n",
    "print(True < False)\n",
    "print(True == False)"
   ]
  },
  {
   "cell_type": "code",
   "execution_count": 19,
   "id": "3e54fb7b",
   "metadata": {},
   "outputs": [
    {
     "name": "stdout",
     "output_type": "stream",
     "text": [
      "\"I'm\"\n",
      "\"\"Learning\"\"\n",
      "\"\"\"Python\"\"\"\n"
     ]
    }
   ],
   "source": [
    "#Lab\n",
    "print(\"\\\"I'm\\\"\\n\\\"\\\"Learning\\\"\\\"\\n\\\"\\\"\\\"Python\\\"\\\"\\\"\")"
   ]
  },
  {
   "cell_type": "code",
   "execution_count": 23,
   "id": "22cffc0a",
   "metadata": {},
   "outputs": [
    {
     "name": "stdout",
     "output_type": "stream",
     "text": [
      "\"Hello\", \"007\"\n"
     ]
    }
   ],
   "source": [
    "#Exercise 1\n",
    "print(\"\\\"Hello \\\",\",\"\\\"007\\\"\")"
   ]
  },
  {
   "cell_type": "code",
   "execution_count": 25,
   "id": "0b6028c0",
   "metadata": {},
   "outputs": [
    {
     "name": "stdout",
     "output_type": "stream",
     "text": [
      "\"1.5\" 2.0 528 False\n"
     ]
    }
   ],
   "source": [
    "#Exercise 2\n",
    "print(\"\\\"1.5\\\"\",2.0,0o1020,True<False)"
   ]
  },
  {
   "cell_type": "code",
   "execution_count": 27,
   "id": "957e103b",
   "metadata": {},
   "outputs": [
    {
     "name": "stdout",
     "output_type": "stream",
     "text": [
      "11\n"
     ]
    }
   ],
   "source": [
    "#Exercise 3\n",
    "print(0b1011)"
   ]
  },
  {
   "cell_type": "code",
   "execution_count": 28,
   "id": "e1dce712",
   "metadata": {},
   "outputs": [
    {
     "name": "stdout",
     "output_type": "stream",
     "text": [
      "4\n"
     ]
    }
   ],
   "source": [
    "print(2+2)"
   ]
  },
  {
   "cell_type": "code",
   "execution_count": 35,
   "id": "e4302e51",
   "metadata": {},
   "outputs": [
    {
     "name": "stdout",
     "output_type": "stream",
     "text": [
      "Pangkat\n",
      "8\n",
      "8.0\n",
      "8.0\n",
      "8.0\n",
      "Kali\n",
      "6\n",
      "6.0\n",
      "6.0\n",
      "6.0\n",
      "Bagi\n",
      "2.0\n",
      "2.0\n",
      "2.0\n",
      "2.0\n",
      "Bagi(int)\n",
      "2\n",
      "2.0\n",
      "2.0\n",
      "2.0\n",
      "Modulus\n",
      "2\n"
     ]
    }
   ],
   "source": [
    "#Pangkat\n",
    "print(\"Pangkat\")\n",
    "print(2 ** 3)\n",
    "print(2 ** 3.)\n",
    "print(2. ** 3)\n",
    "print(2. ** 3.)\n",
    "\n",
    "#Kali\n",
    "print(\"Kali\")\n",
    "print(2 * 3)\n",
    "print(2 * 3.)\n",
    "print(2. * 3)\n",
    "print(2. * 3.)\n",
    "\n",
    "#Bagi\n",
    "print(\"Bagi\")\n",
    "print(6 / 3)\n",
    "print(6 / 3.)\n",
    "print(6. / 3)\n",
    "print(6. / 3.)\n",
    "\n",
    "#Bagi(int)\n",
    "print(\"Bagi(int)\")\n",
    "print(6 // 3)\n",
    "print(6 // 3.)\n",
    "print(6. // 3)\n",
    "print(6. // 3.)\n",
    "\n",
    "#Modulus\n",
    "print(\"Modulus\")\n",
    "print(14 % 4)"
   ]
  }
 ],
 "metadata": {
  "kernelspec": {
   "display_name": "Python 3",
   "language": "python",
   "name": "python3"
  },
  "language_info": {
   "codemirror_mode": {
    "name": "ipython",
    "version": 3
   },
   "file_extension": ".py",
   "mimetype": "text/x-python",
   "name": "python",
   "nbconvert_exporter": "python",
   "pygments_lexer": "ipython3",
   "version": "3.8.8"
  }
 },
 "nbformat": 4,
 "nbformat_minor": 5
}
