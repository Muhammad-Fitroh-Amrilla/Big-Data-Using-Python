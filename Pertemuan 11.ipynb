{
 "cells": [
  {
   "cell_type": "code",
   "execution_count": 27,
   "id": "ede5bef4",
   "metadata": {},
   "outputs": [
    {
     "name": "stdout",
     "output_type": "stream",
     "text": [
      "[['ROOK', '-', '-', '-', '-', '-', '-', 'ROOK'], ['-', '-', '-', '-', '-', '-', '-', '-'], ['-', '-', '-', '-', '-', '-', '-', '-'], ['-', '-', '-', '-', 'PAWN', '-', '-', '-'], ['-', '-', 'KNIGHT', '-', '-', '-', '-', '-'], ['-', '-', '-', '-', '-', '-', '-', '-'], ['-', '-', '-', '-', '-', '-', '-', '-'], ['ROOK', '-', '-', '-', '-', '-', '-', 'ROOK']]\n"
     ]
    }
   ],
   "source": [
    "EMPTY = \"-\"\n",
    "ROOK = \"ROOK\"\n",
    "KNIGHT =\"KNIGHT\"\n",
    "PAWN = \"PAWN\"\n",
    "board = []\n",
    "\n",
    "for i in range(8):\n",
    "    row = [EMPTY for i in range(8)]\n",
    "    board.append(row)\n",
    "\n",
    "board[0][0] = ROOK\n",
    "board[0][7] = ROOK\n",
    "board[7][0] = ROOK\n",
    "board[7][7] = ROOK\n",
    "board[4][2] = KNIGHT\n",
    "board[3][4] = PAWN\n",
    "\n",
    "print(board)"
   ]
  },
  {
   "cell_type": "code",
   "execution_count": 19,
   "id": "93e35e29",
   "metadata": {},
   "outputs": [
    {
     "name": "stdout",
     "output_type": "stream",
     "text": [
      "Average temperature at noon: 0.0\n"
     ]
    }
   ],
   "source": [
    "temps = [[0.0 for h in range(24)] for d in range(31)]\n",
    "#\n",
    "# The matrix is magically updated here.\n",
    "#\n",
    "total = 0.0\n",
    "\n",
    "for day in temps:\n",
    "    total += day[11]\n",
    "\n",
    "average = total / 31\n",
    "\n",
    "print(\"Average temperature at noon:\", average)"
   ]
  },
  {
   "cell_type": "code",
   "execution_count": 21,
   "id": "c0787792",
   "metadata": {},
   "outputs": [
    {
     "name": "stdout",
     "output_type": "stream",
     "text": [
      "The highest temperature was: 40\n"
     ]
    }
   ],
   "source": [
    "temps = [[0.0 for h in range(24)] for d in range(31)]\n",
    "#\n",
    "# The matrix is magically updated here.\n",
    "#\n",
    "\n",
    "highest = -100.0\n",
    "\n",
    "for day in temps:\n",
    "    for temp in day:\n",
    "        if temp > highest:\n",
    "            highest = temp\n",
    "\n",
    "print(\"The highest temperature was:\", highest)"
   ]
  },
  {
   "cell_type": "code",
   "execution_count": 24,
   "id": "ef7db6a8",
   "metadata": {},
   "outputs": [
    {
     "name": "stdout",
     "output_type": "stream",
     "text": [
      "1 days were hot.\n"
     ]
    }
   ],
   "source": [
    "temps = [[0.0 for h in range(24)] for d in range(31)]\n",
    "#\n",
    "# The matrix is magically updated here.\n",
    "#\n",
    "hot_days = 0\n",
    "\n",
    "for day in temps:\n",
    "    if day[11] > 20.0:\n",
    "        hot_days += 1\n",
    "\n",
    "print(hot_days, \"days were hot.\")"
   ]
  },
  {
   "cell_type": "code",
   "execution_count": 25,
   "id": "1d537cc1",
   "metadata": {},
   "outputs": [
    {
     "name": "stdout",
     "output_type": "stream",
     "text": [
      "[0, 1, 8, 27, 64]\n"
     ]
    }
   ],
   "source": [
    "cubed = [num ** 3 for num in range(5)]\n",
    "print(cubed)  # outputs: [0, 1, 8, 27, 64]"
   ]
  },
  {
   "cell_type": "code",
   "execution_count": 26,
   "id": "554ae4cd",
   "metadata": {},
   "outputs": [
    {
     "name": "stdout",
     "output_type": "stream",
     "text": [
      "[[':(', ':)', ':(', ':)'], [':)', ':(', ':)', ':)'], [':(', ':)', ':)', ':('], [':)', ':)', ':)', ':(']]\n",
      ":(\n",
      ":)\n"
     ]
    }
   ],
   "source": [
    "# A four-column/four-row table - a two dimensional array (4x4)\n",
    "\n",
    "table = [[\":(\", \":)\", \":(\", \":)\"],\n",
    "         [\":)\", \":(\", \":)\", \":)\"],\n",
    "         [\":(\", \":)\", \":)\", \":(\"],\n",
    "         [\":)\", \":)\", \":)\", \":(\"]]\n",
    "\n",
    "print(table)\n",
    "print(table[0][0])  # outputs: ':('\n",
    "print(table[0][3])  # outputs: ':)'"
   ]
  },
  {
   "cell_type": "code",
   "execution_count": 28,
   "id": "5a0ae48f",
   "metadata": {},
   "outputs": [
    {
     "name": "stdout",
     "output_type": "stream",
     "text": [
      "[[[':(', 'x', 'x'], [':)', 'x', 'x'], [':(', 'x', 'x']], [[':)', 'x', 'x'], [':(', 'x', 'x'], [':)', 'x', 'x']], [[':(', 'x', 'x'], [':)', 'x', 'x'], [':)', 'x', 'x']]]\n",
      ":(\n",
      ":)\n"
     ]
    }
   ],
   "source": [
    "# Cube - a three-dimensional array (3x3x3)\n",
    "\n",
    "cube = [[[':(', 'x', 'x'],\n",
    "         [':)', 'x', 'x'],\n",
    "         [':(', 'x', 'x']],\n",
    "\n",
    "        [[':)', 'x', 'x'],\n",
    "         [':(', 'x', 'x'],\n",
    "         [':)', 'x', 'x']],\n",
    "\n",
    "        [[':(', 'x', 'x'],\n",
    "         [':)', 'x', 'x'],\n",
    "         [':)', 'x', 'x']]]\n",
    "\n",
    "print(cube)\n",
    "print(cube[0][0][0])  # outputs: ':('\n",
    "print(cube[2][2][0])  # outputs: ':)'"
   ]
  },
  {
   "cell_type": "code",
   "execution_count": 29,
   "id": "8054fb05",
   "metadata": {},
   "outputs": [
    {
     "name": "stdout",
     "output_type": "stream",
     "text": [
      "Enter a value: \n",
      "1\n",
      "Enter a value: \n",
      "3\n",
      "Enter a value: \n",
      "2\n"
     ]
    }
   ],
   "source": [
    "print(\"Enter a value: \")\n",
    "a = int(input())\n",
    "\n",
    "print(\"Enter a value: \")\n",
    "b = int(input())\n",
    "\n",
    "print(\"Enter a value: \")\n",
    "c = int(input())"
   ]
  },
  {
   "cell_type": "code",
   "execution_count": 31,
   "id": "83f59acc",
   "metadata": {},
   "outputs": [
    {
     "name": "stdout",
     "output_type": "stream",
     "text": [
      "We start here.\n",
      "Enter a value: \n",
      "We end here.\n"
     ]
    }
   ],
   "source": [
    "def message():\n",
    "    print(\"Enter a value: \")\n",
    "\n",
    "print(\"We start here.\")\n",
    "message()\n",
    "print(\"We end here.\")"
   ]
  },
  {
   "cell_type": "code",
   "execution_count": 36,
   "id": "42903043",
   "metadata": {},
   "outputs": [
    {
     "name": "stdout",
     "output_type": "stream",
     "text": [
      "Enter word : Hello World\n",
      "Hello World\n"
     ]
    }
   ],
   "source": [
    "def my_function():\n",
    "    print(input(\"Enter word : \"))\n",
    "my_function()"
   ]
  },
  {
   "cell_type": "code",
   "execution_count": 37,
   "id": "481adc85",
   "metadata": {},
   "outputs": [
    {
     "name": "stdout",
     "output_type": "stream",
     "text": [
      "Enter a value: \n",
      "3\n",
      "Enter a value: \n",
      "2\n",
      "Enter a value: \n",
      "1\n"
     ]
    }
   ],
   "source": [
    "def message():\n",
    "    print(\"Enter a value: \")\n",
    "\n",
    "message()\n",
    "a = int(input())\n",
    "message()\n",
    "b = int(input())\n",
    "message()\n",
    "c = int(input())\n",
    "\n"
   ]
  },
  {
   "cell_type": "code",
   "execution_count": 38,
   "id": "514554f5",
   "metadata": {},
   "outputs": [
    {
     "name": "stdout",
     "output_type": "stream",
     "text": [
      "Enter a number: 1\n",
      "1234\n"
     ]
    }
   ],
   "source": [
    "def message(number):\n",
    "    print(\"Enter a number:\", number)\n",
    "\n",
    "number = 1234\n",
    "message(1)\n",
    "print(number)"
   ]
  },
  {
   "cell_type": "code",
   "execution_count": 39,
   "id": "57bfaf19",
   "metadata": {},
   "outputs": [
    {
     "name": "stdout",
     "output_type": "stream",
     "text": [
      "Enter telephone number 11\n",
      "Enter price number 5\n",
      "Enter number number number\n"
     ]
    }
   ],
   "source": [
    "def message(what, number):\n",
    "    print(\"Enter\", what, \"number\", number)\n",
    "\n",
    "message(\"telephone\", 11)\n",
    "message(\"price\", 5)\n",
    "message(\"number\", \"number\")"
   ]
  },
  {
   "cell_type": "code",
   "execution_count": 40,
   "id": "1af3cfd7",
   "metadata": {},
   "outputs": [
    {
     "name": "stdout",
     "output_type": "stream",
     "text": [
      "1 2 3\n"
     ]
    }
   ],
   "source": [
    "def my_function(a, b, c):\n",
    "    print(a, b, c)\n",
    "\n",
    "my_function(1, 2, 3)"
   ]
  },
  {
   "cell_type": "code",
   "execution_count": 41,
   "id": "87fff6ec",
   "metadata": {},
   "outputs": [
    {
     "name": "stdout",
     "output_type": "stream",
     "text": [
      "Hello, my name is Luke Skywalker\n",
      "Hello, my name is Jesse Quick\n",
      "Hello, my name is Clark Kent\n"
     ]
    }
   ],
   "source": [
    "def introduction(first_name, last_name):\n",
    "    print(\"Hello, my name is\", first_name, last_name)\n",
    "\n",
    "introduction(\"Luke\", \"Skywalker\")\n",
    "introduction(\"Jesse\", \"Quick\")\n",
    "introduction(\"Clark\", \"Kent\")"
   ]
  }
 ],
 "metadata": {
  "kernelspec": {
   "display_name": "Python 3",
   "language": "python",
   "name": "python3"
  },
  "language_info": {
   "codemirror_mode": {
    "name": "ipython",
    "version": 3
   },
   "file_extension": ".py",
   "mimetype": "text/x-python",
   "name": "python",
   "nbconvert_exporter": "python",
   "pygments_lexer": "ipython3",
   "version": "3.8.8"
  }
 },
 "nbformat": 4,
 "nbformat_minor": 5
}
