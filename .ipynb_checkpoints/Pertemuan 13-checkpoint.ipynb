{
 "cells": [
  {
   "cell_type": "code",
   "execution_count": null,
   "id": "fc7d9503",
   "metadata": {},
   "outputs": [],
   "source": [
    "lab\n",
    "def is_year_leap(year):\n",
    "#\n",
    "# Your code from LAB 4.3.1.6.\n",
    "#\n",
    "\n",
    "def days_in_month(year, month):\n",
    "#\n",
    "# Your code from LAB 4.3.1.7.\n",
    "#\n",
    "\n",
    "def day_of_year(year, month, day):\n",
    "#\n",
    "# Write your new code here.\n",
    "#\n",
    "\n",
    "print(day_of_year(2000, 12, 31))\n"
   ]
  }
 ],
 "metadata": {
  "kernelspec": {
   "display_name": "Python 3",
   "language": "python",
   "name": "python3"
  }
 },
 "nbformat": 4,
 "nbformat_minor": 5
}
