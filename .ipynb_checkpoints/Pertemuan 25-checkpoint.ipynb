{
 "cells": [
  {
   "cell_type": "code",
   "execution_count": 1,
   "id": "73d41d90",
   "metadata": {},
   "outputs": [
    {
     "ename": "FileNotFoundError",
     "evalue": "[Errno 2] No such file or directory: 'tzop.txt'",
     "output_type": "error",
     "traceback": [
      "\u001b[1;31m---------------------------------------------------------------------------\u001b[0m",
      "\u001b[1;31mFileNotFoundError\u001b[0m                         Traceback (most recent call last)",
      "\u001b[1;32m<ipython-input-1-f9f494058807>\u001b[0m in \u001b[0;36m<module>\u001b[1;34m\u001b[0m\n\u001b[0;32m      1\u001b[0m \u001b[1;31m# Opening tzop.txt in read mode, returning it as a file object:\u001b[0m\u001b[1;33m\u001b[0m\u001b[1;33m\u001b[0m\u001b[1;33m\u001b[0m\u001b[0m\n\u001b[1;32m----> 2\u001b[1;33m \u001b[0mstream\u001b[0m \u001b[1;33m=\u001b[0m \u001b[0mopen\u001b[0m\u001b[1;33m(\u001b[0m\u001b[1;34m\"tzop.txt\"\u001b[0m\u001b[1;33m,\u001b[0m \u001b[1;34m\"rt\"\u001b[0m\u001b[1;33m,\u001b[0m \u001b[0mencoding\u001b[0m \u001b[1;33m=\u001b[0m \u001b[1;34m\"utf-8\"\u001b[0m\u001b[1;33m)\u001b[0m\u001b[1;33m\u001b[0m\u001b[1;33m\u001b[0m\u001b[0m\n\u001b[0m\u001b[0;32m      3\u001b[0m \u001b[1;33m\u001b[0m\u001b[0m\n\u001b[0;32m      4\u001b[0m \u001b[0mprint\u001b[0m\u001b[1;33m(\u001b[0m\u001b[0mstream\u001b[0m\u001b[1;33m.\u001b[0m\u001b[0mread\u001b[0m\u001b[1;33m(\u001b[0m\u001b[1;33m)\u001b[0m\u001b[1;33m)\u001b[0m \u001b[1;31m# printing the content of the file\u001b[0m\u001b[1;33m\u001b[0m\u001b[1;33m\u001b[0m\u001b[0m\n",
      "\u001b[1;31mFileNotFoundError\u001b[0m: [Errno 2] No such file or directory: 'tzop.txt'"
     ]
    }
   ],
   "source": [
    "# Opening tzop.txt in read mode, returning it as a file object:\n",
    "stream = open(\"tzop.txt\", \"rt\", encoding = \"utf-8\")\n",
    "\n",
    "print(stream.read()) # printing the content of the file"
   ]
  },
  {
   "cell_type": "code",
   "execution_count": 3,
   "id": "c893ba63",
   "metadata": {},
   "outputs": [
    {
     "name": "stdout",
     "output_type": "stream",
     "text": [
      "Beautiful is better than ugly.\n",
      "Explicit is better than implicit.\n",
      "Simple is better than complex.\n",
      "Complex is better than complicated.\n",
      "\n",
      "Characters in file: 131\n"
     ]
    }
   ],
   "source": [
    "from os import strerror\n",
    "\n",
    "try:\n",
    "    cnt = 0\n",
    "    s = open('text.txt', \"rt\")\n",
    "    ch = s.read(1)\n",
    "    while ch != '':\n",
    "        print(ch, end='')\n",
    "        cnt += 1\n",
    "        ch = s.read(1)\n",
    "    s.close()\n",
    "    print(\"\\n\\nCharacters in file:\", cnt)\n",
    "except IOError as e:\n",
    "    print(\"I/O error occurred: \", strerr(e.errno))"
   ]
  },
  {
   "cell_type": "code",
   "execution_count": 4,
   "id": "24a29481",
   "metadata": {},
   "outputs": [
    {
     "name": "stdout",
     "output_type": "stream",
     "text": [
      "Beautiful is better than ugly.\n",
      "Explicit is better than implicit.\n",
      "Simple is better than complex.\n",
      "Complex is better than complicated.\n",
      "\n",
      "Characters in file: 131\n"
     ]
    }
   ],
   "source": [
    "from os import strerror\n",
    "\n",
    "try:\n",
    "    cnt = 0\n",
    "    s = open('text.txt', \"rt\")\n",
    "    content = s.read()\n",
    "    for ch in content:\n",
    "        print(ch, end='')\n",
    "        cnt += 1\n",
    "        ch = s.read(1)\n",
    "    s.close()\n",
    "    print(\"\\n\\nCharacters in file:\", cnt)\n",
    "except IOError as e:\n",
    "    print(\"I/O error occurred: \", strerr(e.errno))"
   ]
  },
  {
   "cell_type": "code",
   "execution_count": 5,
   "id": "a357ab20",
   "metadata": {},
   "outputs": [
    {
     "name": "stdout",
     "output_type": "stream",
     "text": [
      "Beautiful is better than ugly.\n",
      "Explicit is better than implicit.\n",
      "Simple is better than complex.\n",
      "Complex is better than complicated.\n",
      "\n",
      "Characters in file: 131\n",
      "Lines in file:      4\n"
     ]
    }
   ],
   "source": [
    "from os import strerror\n",
    "\n",
    "try:\n",
    "    ccnt = lcnt = 0\n",
    "    s = open('text.txt', 'rt')\n",
    "    line = s.readline()\n",
    "    while line != '':\n",
    "        lcnt += 1\n",
    "        for ch in line:\n",
    "            print(ch, end='')\n",
    "            ccnt += 1\n",
    "        line = s.readline()\n",
    "    s.close()\n",
    "    print(\"\\n\\nCharacters in file:\", ccnt)\n",
    "    print(\"Lines in file:     \", lcnt)\n",
    "except IOError as e:\n",
    "    print(\"I/O error occurred:\", strerr(e.errno))"
   ]
  },
  {
   "cell_type": "code",
   "execution_count": 6,
   "id": "3418092d",
   "metadata": {},
   "outputs": [
    {
     "name": "stdout",
     "output_type": "stream",
     "text": [
      "Beautiful is better than ugly.\n",
      "Explicit is better than implicit.\n",
      "Simple is better than complex.\n",
      "Complex is better than complicated.\n",
      "\n",
      "Characters in file: 131\n",
      "Lines in file:      4\n"
     ]
    }
   ],
   "source": [
    "from os import strerror\n",
    "\n",
    "try:\n",
    "    ccnt = lcnt = 0\n",
    "    s = open('text.txt', 'rt')\n",
    "    lines = s.readlines(20)\n",
    "    while len(lines) != 0:\n",
    "        for line in lines:\n",
    "            lcnt += 1\n",
    "            for ch in line:\n",
    "                print(ch, end='')\n",
    "                ccnt += 1\n",
    "        lines = s.readlines(10)\n",
    "    s.close()\n",
    "    print(\"\\n\\nCharacters in file:\", ccnt)\n",
    "    print(\"Lines in file:     \", lcnt)\n",
    "except IOError as e:\n",
    "    print(\"I/O error occurred:\", strerr(e.errno))"
   ]
  },
  {
   "cell_type": "code",
   "execution_count": 7,
   "id": "70a8a140",
   "metadata": {},
   "outputs": [
    {
     "name": "stdout",
     "output_type": "stream",
     "text": [
      "Beautiful is better than ugly.\n",
      "Explicit is better than implicit.\n",
      "Simple is better than complex.\n",
      "Complex is better than complicated.\n",
      "\n",
      "Characters in file: 131\n",
      "Lines in file:      4\n"
     ]
    }
   ],
   "source": [
    "from os import strerror\n",
    "\n",
    "try:\n",
    "\tccnt = lcnt = 0\n",
    "\tfor line in open('text.txt', 'rt'):\n",
    "\t\tlcnt += 1\n",
    "\t\tfor ch in line:\n",
    "\t\t\tprint(ch, end='')\n",
    "\t\t\tccnt += 1\n",
    "\tprint(\"\\n\\nCharacters in file:\", ccnt)\n",
    "\tprint(\"Lines in file:     \", lcnt)\n",
    "except IOError as e:\n",
    "\tprint(\"I/O error occurred: \", strerr(e.errno))"
   ]
  },
  {
   "cell_type": "code",
   "execution_count": 27,
   "id": "653bb93a",
   "metadata": {},
   "outputs": [
    {
     "ename": "SyntaxError",
     "evalue": "invalid syntax (<ipython-input-27-94453e8a03c3>, line 11)",
     "output_type": "error",
     "traceback": [
      "\u001b[1;36m  File \u001b[1;32m\"<ipython-input-27-94453e8a03c3>\"\u001b[1;36m, line \u001b[1;32m11\u001b[0m\n\u001b[1;33m    stream = open(\"newtext.txt\", \"rt\")\u001b[0m\n\u001b[1;37m    ^\u001b[0m\n\u001b[1;31mSyntaxError\u001b[0m\u001b[1;31m:\u001b[0m invalid syntax\n"
     ]
    }
   ],
   "source": [
    "from os import strerror\n",
    "\n",
    "try:\n",
    "    \n",
    "\tfo = open('newtext.txt', 'wt') # A new file (newtext.txt) is created.\n",
    "\tfor i in range(10):\n",
    "\t\ts = \"line #\" + str(i+1) + \"\\n\"\n",
    "\t\tfor ch in s:\n",
    "\t\t\tfo.write(ch)\n",
    "\tfo.close()\n",
    "    stream = open(\"newtext.txt\", \"rt\")\n",
    "    print(stream.read())\n",
    "except IOError as e:\n",
    "\tprint(\"I/O error occurred: \", strerr(e.errno))"
   ]
  },
  {
   "cell_type": "code",
   "execution_count": 23,
   "id": "872ca9ae",
   "metadata": {},
   "outputs": [
    {
     "name": "stdout",
     "output_type": "stream",
     "text": [
      "line #1\n",
      "line #2\n",
      "line #3\n",
      "line #4\n",
      "line #5\n",
      "line #6\n",
      "line #7\n",
      "line #8\n",
      "line #9\n",
      "line #10\n",
      "\n"
     ]
    }
   ],
   "source": []
  },
  {
   "cell_type": "code",
   "execution_count": 14,
   "id": "cf97e6da",
   "metadata": {},
   "outputs": [],
   "source": [
    "from os import strerror\n",
    "\n",
    "try:\n",
    "    fo = open('newtext.txt', 'wt')\n",
    "    for i in range(10):\n",
    "        fo.write(\"line #\" + str(i+1) + \"\\n\")\n",
    "    fo.close()\n",
    "except IOError as e:\n",
    "    print(\"I/O error occurred: \", strerr(e.errno))"
   ]
  },
  {
   "cell_type": "code",
   "execution_count": null,
   "id": "87180478",
   "metadata": {},
   "outputs": [],
   "source": []
  }
 ],
 "metadata": {
  "kernelspec": {
   "display_name": "Python 3",
   "language": "python",
   "name": "python3"
  },
  "language_info": {
   "codemirror_mode": {
    "name": "ipython",
    "version": 3
   },
   "file_extension": ".py",
   "mimetype": "text/x-python",
   "name": "python",
   "nbconvert_exporter": "python",
   "pygments_lexer": "ipython3",
   "version": "3.8.8"
  }
 },
 "nbformat": 4,
 "nbformat_minor": 5
}
