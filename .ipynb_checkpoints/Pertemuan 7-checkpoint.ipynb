{
 "cells": [
  {
   "cell_type": "code",
   "execution_count": 1,
   "id": "3f1340c1",
   "metadata": {},
   "outputs": [
    {
     "name": "stdout",
     "output_type": "stream",
     "text": [
      "False\n",
      "True\n"
     ]
    }
   ],
   "source": [
    "# exercise 1\n",
    "x = 5\n",
    "y = 10\n",
    "z = 8\n",
    "\n",
    "print(x > y)\n",
    "print(y > z)"
   ]
  },
  {
   "cell_type": "code",
   "execution_count": 2,
   "id": "56f0d507",
   "metadata": {},
   "outputs": [
    {
     "name": "stdout",
     "output_type": "stream",
     "text": [
      "False\n",
      "True\n"
     ]
    }
   ],
   "source": [
    "# exercise 2\n",
    "x, y, z = 5, 10, 8\n",
    "\n",
    "print(x > z)\n",
    "print((y - 5) == x)"
   ]
  },
  {
   "cell_type": "code",
   "execution_count": 4,
   "id": "2cfbd3bf",
   "metadata": {},
   "outputs": [
    {
     "name": "stdout",
     "output_type": "stream",
     "text": [
      "True\n",
      "False\n"
     ]
    }
   ],
   "source": [
    "# exercise 3\n",
    "x, y, z = 5, 10, 8\n",
    "x, y, z = z, y, x\n",
    "\n",
    "print(x > z)\n",
    "print((y - 5) == x)\n"
   ]
  },
  {
   "cell_type": "code",
   "execution_count": 5,
   "id": "25aa3de8",
   "metadata": {},
   "outputs": [
    {
     "name": "stdout",
     "output_type": "stream",
     "text": [
      "True\n",
      "True\n",
      "else\n"
     ]
    }
   ],
   "source": [
    "# exercise 4\n",
    "x = 10\n",
    "\n",
    "if x == 10:\n",
    "    print(x == 10)\n",
    "if x > 5:\n",
    "    print(x > 5)\n",
    "if x < 10:\n",
    "    print(x < 10)\n",
    "else:\n",
    "    print(\"else\")"
   ]
  },
  {
   "cell_type": "code",
   "execution_count": 6,
   "id": "e35afcbd",
   "metadata": {},
   "outputs": [
    {
     "name": "stdout",
     "output_type": "stream",
     "text": [
      "four\n",
      "five\n"
     ]
    }
   ],
   "source": [
    "# exercise 5\n",
    "x = \"1\"\n",
    "\n",
    "if x == 1:\n",
    "    print(\"one\")\n",
    "elif x == \"1\":\n",
    "    if int(x) > 1:\n",
    "        print(\"two\")\n",
    "    elif int(x) < 1:\n",
    "        print(\"three\")\n",
    "    else:\n",
    "        print(\"four\")\n",
    "if int(x) == 1:\n",
    "    print(\"five\")\n",
    "else:\n",
    "    print(\"six\")"
   ]
  },
  {
   "cell_type": "code",
   "execution_count": 7,
   "id": "dcbc5b31",
   "metadata": {},
   "outputs": [
    {
     "name": "stdout",
     "output_type": "stream",
     "text": [
      "one\n",
      "two\n"
     ]
    }
   ],
   "source": [
    "# exercise 6\n",
    "x = 1\n",
    "y = 1.0\n",
    "z = \"1\"\n",
    "\n",
    "if x == y:\n",
    "    print(\"one\")\n",
    "if y == int(z):\n",
    "    print(\"two\")\n",
    "elif x == y:\n",
    "    print(\"three\")\n",
    "else:\n",
    "    print(\"four\")"
   ]
  },
  {
   "cell_type": "code",
   "execution_count": 9,
   "id": "9598efd9",
   "metadata": {},
   "outputs": [
    {
     "name": "stdout",
     "output_type": "stream",
     "text": [
      "Enter a number or type -1 to stop: 2\n",
      "Enter a number or type -1 to stop: 3\n",
      "Enter a number or type -1 to stop: 5\n",
      "Enter a number or type -1 to stop: 6\n",
      "Enter a number or type -1 to stop: -1\n",
      "The largest number is: 6\n"
     ]
    }
   ],
   "source": [
    "# Store the current largest number here.\n",
    "largest_number = -999999999\n",
    "\n",
    "# Input the first value.\n",
    "number = int(input(\"Enter a number or type -1 to stop: \"))\n",
    "\n",
    "# If the number is not equal to -1, continue.\n",
    "while number != -1:\n",
    "    # Is number larger than largest_number?\n",
    "    if number > largest_number:\n",
    "        # Yes, update largest_number.\n",
    "        largest_number = number\n",
    "    # Input the next number.\n",
    "    number = int(input(\"Enter a number or type -1 to stop: \"))\n",
    "\n",
    "# Print the largest number.\n",
    "print(\"The largest number is:\", largest_number)"
   ]
  },
  {
   "cell_type": "code",
   "execution_count": 10,
   "id": "ef75b936",
   "metadata": {},
   "outputs": [
    {
     "name": "stdout",
     "output_type": "stream",
     "text": [
      "Enter a number or type 0 to stop: 2\n",
      "Enter a number or type 0 to stop: 3\n",
      "Enter a number or type 0 to stop: 4\n",
      "Enter a number or type 0 to stop: 0\n",
      "Odd numbers count: 1\n",
      "Even numbers count: 2\n"
     ]
    }
   ],
   "source": [
    "# A program that reads a sequence of numbers\n",
    "# and counts how many numbers are even and how many are odd.\n",
    "# The program terminates when zero is entered.\n",
    "\n",
    "odd_numbers = 0\n",
    "even_numbers = 0\n",
    "\n",
    "# Read the first number.\n",
    "number = int(input(\"Enter a number or type 0 to stop: \"))\n",
    "\n",
    "# 0 terminates execution.\n",
    "while number != 0:\n",
    "    # Check if the number is odd.\n",
    "    if number % 2 == 1:\n",
    "        # Increase the odd_numbers counter.\n",
    "        odd_numbers += 1\n",
    "    else:\n",
    "        # Increase the even_numbers counter.\n",
    "        even_numbers += 1\n",
    "    # Read the next number.\n",
    "    number = int(input(\"Enter a number or type 0 to stop: \"))\n",
    "\n",
    "# Print results.\n",
    "print(\"Odd numbers count:\", odd_numbers)\n",
    "print(\"Even numbers count:\", even_numbers)"
   ]
  },
  {
   "cell_type": "code",
   "execution_count": 12,
   "id": "a0349b83",
   "metadata": {},
   "outputs": [
    {
     "name": "stdout",
     "output_type": "stream",
     "text": [
      "Inside the loop. 5\n",
      "Inside the loop. 4\n",
      "Inside the loop. 3\n",
      "Inside the loop. 2\n",
      "Inside the loop. 1\n",
      "Outside the loop. 0\n",
      "Inside the loop. 5\n",
      "Inside the loop. 4\n",
      "Inside the loop. 3\n",
      "Inside the loop. 2\n",
      "Inside the loop. 1\n",
      "Outside the loop. 0\n"
     ]
    }
   ],
   "source": [
    "counter = 5\n",
    "while counter:\n",
    "    print(\"Inside the loop.\", counter)\n",
    "    counter -= 1\n",
    "print(\"Outside the loop.\", counter)\n",
    "\n",
    "counter = 5\n",
    "while counter != 0:\n",
    "    print(\"Inside the loop.\", counter)\n",
    "    counter -= 1\n",
    "print(\"Outside the loop.\", counter)"
   ]
  },
  {
   "cell_type": "code",
   "execution_count": 14,
   "id": "995b7699",
   "metadata": {},
   "outputs": [
    {
     "name": "stdout",
     "output_type": "stream",
     "text": [
      "\n",
      "+================================+\n",
      "| Welcome to my game, muggle!    |\n",
      "| Enter an integer number        |\n",
      "| and guess what number I've     |\n",
      "| picked for you.                |\n",
      "| So, what is the secret number? |\n",
      "+================================+\n",
      "\n",
      "Input your number : 10\n",
      "Ha ha! You're stuck in my loop!\n",
      "Input your number : 20\n",
      "Ha ha! You're stuck in my loop!\n",
      "Input your number : 9\n",
      "Ha ha! You're stuck in my loop!\n",
      "Input your number : 777\n",
      "Well done, muggle! You are free now.\n"
     ]
    }
   ],
   "source": [
    "#lab\n",
    "secret_number = 777\n",
    "\n",
    "print(\n",
    "\"\"\"\n",
    "+================================+\n",
    "| Welcome to my game, muggle!    |\n",
    "| Enter an integer number        |\n",
    "| and guess what number I've     |\n",
    "| picked for you.                |\n",
    "| So, what is the secret number? |\n",
    "+================================+\n",
    "\"\"\")\n",
    "\n",
    "number = int(input(\"Input your number : \"))\n",
    "\n",
    "while number != secret_number:\n",
    "    print(\"Ha ha! You're stuck in my loop!\")\n",
    "    number = int(input(\"Input your number : \"))\n",
    "print(\"Well done, muggle! You are free now.\")"
   ]
  },
  {
   "cell_type": "code",
   "execution_count": 17,
   "id": "6ec802f5",
   "metadata": {},
   "outputs": [
    {
     "name": "stdout",
     "output_type": "stream",
     "text": [
      "The value of i is currently 0\n",
      "The value of i is currently 1\n",
      "The value of i is currently 2\n",
      "The value of i is currently 3\n",
      "The value of i is currently 4\n",
      "The value of i is currently 5\n",
      "The value of i is currently 6\n",
      "The value of i is currently 7\n",
      "The value of i is currently 8\n",
      "The value of i is currently 9\n"
     ]
    }
   ],
   "source": [
    "for i in range(10):\n",
    "    print(\"The value of i is currently\", i)"
   ]
  },
  {
   "cell_type": "code",
   "execution_count": 18,
   "id": "7855c69f",
   "metadata": {},
   "outputs": [
    {
     "name": "stdout",
     "output_type": "stream",
     "text": [
      "The value of i is currently 2\n",
      "The value of i is currently 3\n",
      "The value of i is currently 4\n",
      "The value of i is currently 5\n",
      "The value of i is currently 6\n",
      "The value of i is currently 7\n"
     ]
    }
   ],
   "source": [
    "for i in range(2, 8):\n",
    "    print(\"The value of i is currently\", i)"
   ]
  },
  {
   "cell_type": "code",
   "execution_count": 19,
   "id": "6168774a",
   "metadata": {},
   "outputs": [
    {
     "name": "stdout",
     "output_type": "stream",
     "text": [
      "The value of i is currently 2\n",
      "The value of i is currently 5\n"
     ]
    }
   ],
   "source": [
    "for i in range(2, 8, 3):\n",
    "    print(\"The value of i is currently\", i)"
   ]
  },
  {
   "cell_type": "code",
   "execution_count": 20,
   "id": "3476b44b",
   "metadata": {},
   "outputs": [
    {
     "name": "stdout",
     "output_type": "stream",
     "text": [
      "2 to the power of 0 is 1\n",
      "2 to the power of 1 is 2\n",
      "2 to the power of 2 is 4\n",
      "2 to the power of 3 is 8\n",
      "2 to the power of 4 is 16\n",
      "2 to the power of 5 is 32\n",
      "2 to the power of 6 is 64\n",
      "2 to the power of 7 is 128\n",
      "2 to the power of 8 is 256\n",
      "2 to the power of 9 is 512\n",
      "2 to the power of 10 is 1024\n",
      "2 to the power of 11 is 2048\n",
      "2 to the power of 12 is 4096\n",
      "2 to the power of 13 is 8192\n",
      "2 to the power of 14 is 16384\n",
      "2 to the power of 15 is 32768\n"
     ]
    }
   ],
   "source": [
    "power = 1\n",
    "for expo in range(16):\n",
    "    print(\"2 to the power of\", expo, \"is\", power)\n",
    "    power *= 2"
   ]
  },
  {
   "cell_type": "code",
   "execution_count": 22,
   "id": "73a17ea0",
   "metadata": {},
   "outputs": [
    {
     "name": "stdout",
     "output_type": "stream",
     "text": [
      "1 Mississippi\n",
      "2 Mississippi\n",
      "3 Mississippi\n",
      "4 Mississippi\n",
      "5 Mississippi\n",
      "Ready or not, here I come!\n"
     ]
    }
   ],
   "source": [
    "# lab\n",
    "import time\n",
    "\n",
    "for i in range(1,6):\n",
    "    print(i,\"Mississippi\")\n",
    "    time.sleep(1)\n",
    "print(\"Ready or not, here I come!\")"
   ]
  }
 ],
 "metadata": {
  "kernelspec": {
   "display_name": "Python 3",
   "language": "python",
   "name": "python3"
  },
  "language_info": {
   "codemirror_mode": {
    "name": "ipython",
    "version": 3
   },
   "file_extension": ".py",
   "mimetype": "text/x-python",
   "name": "python",
   "nbconvert_exporter": "python",
   "pygments_lexer": "ipython3",
   "version": "3.8.8"
  }
 },
 "nbformat": 4,
 "nbformat_minor": 5
}
