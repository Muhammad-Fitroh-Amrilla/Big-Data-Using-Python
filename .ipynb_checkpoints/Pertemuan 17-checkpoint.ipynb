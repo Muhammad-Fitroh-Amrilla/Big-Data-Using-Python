{
 "cells": [
  {
   "cell_type": "code",
   "execution_count": 1,
   "id": "9186b110",
   "metadata": {},
   "outputs": [
    {
     "name": "stdout",
     "output_type": "stream",
     "text": [
      "z\n",
      "[y]\n",
      "2\n"
     ]
    }
   ],
   "source": [
    "# Demonstrating max() - Example 1:\n",
    "print(max(\"aAbByYzZ\"))\n",
    "\n",
    "\n",
    "# Demonstrating max() - Examples 2 & 3:\n",
    "t = 'The Knights Who Say \"Ni!\"'\n",
    "print('[' + max(t) + ']')\n",
    "\n",
    "t = [0, 1, 2]\n",
    "print(max(t))\n"
   ]
  },
  {
   "cell_type": "code",
   "execution_count": 2,
   "id": "a5b8cdf0",
   "metadata": {},
   "outputs": [
    {
     "name": "stdout",
     "output_type": "stream",
     "text": [
      "2\n",
      "7\n",
      "1\n"
     ]
    }
   ],
   "source": [
    "# Demonstrating the index() method:\n",
    "print(\"aAbByYzZaA\".index(\"b\"))\n",
    "print(\"aAbByYzZaA\".index(\"Z\"))\n",
    "print(\"aAbByYzZaA\".index(\"A\"))\n"
   ]
  },
  {
   "cell_type": "code",
   "execution_count": 3,
   "id": "6d6605e6",
   "metadata": {},
   "outputs": [
    {
     "name": "stdout",
     "output_type": "stream",
     "text": [
      "['a', 'b', 'c', 'a', 'b', 'c']\n",
      "2\n",
      "0\n"
     ]
    }
   ],
   "source": [
    "# Demonstrating the list() function:\n",
    "print(list(\"abcabc\"))\n",
    "\n",
    "# Demonstrating the count() method:\n",
    "print(\"abcabc\".count(\"b\"))\n",
    "print('abcabc'.count(\"d\"))\n"
   ]
  },
  {
   "cell_type": "code",
   "execution_count": 4,
   "id": "300c405e",
   "metadata": {},
   "outputs": [
    {
     "name": "stdout",
     "output_type": "stream",
     "text": [
      "*+*+*+*+*\n"
     ]
    }
   ],
   "source": [
    "asterisk = '*'\n",
    "plus = \"+\"\n",
    "decoration = (asterisk + plus) * 4 + asterisk\n",
    "print(decoration)"
   ]
  },
  {
   "cell_type": "code",
   "execution_count": 6,
   "id": "a123cedf",
   "metadata": {},
   "outputs": [
    {
     "name": "stdout",
     "output_type": "stream",
     "text": [
      "['t', 'e', 'r']\n"
     ]
    }
   ],
   "source": [
    "s = 'yesteryears'\n",
    "the_list = list(s)\n",
    "print(the_list[3:6])"
   ]
  },
  {
   "cell_type": "code",
   "execution_count": 7,
   "id": "2baa4188",
   "metadata": {},
   "outputs": [
    {
     "name": "stdout",
     "output_type": "stream",
     "text": [
      "bcd"
     ]
    }
   ],
   "source": [
    "for ch in \"abc\":\n",
    "    print(chr(ord(ch) + 1), end='')"
   ]
  },
  {
   "cell_type": "code",
   "execution_count": 8,
   "id": "58450378",
   "metadata": {},
   "outputs": [
    {
     "name": "stdout",
     "output_type": "stream",
     "text": [
      "[  alpha   ]\n"
     ]
    }
   ],
   "source": [
    "# Demonstrating the center() method:\n",
    "print('[' + 'alpha'.center(10) + ']')\n"
   ]
  },
  {
   "cell_type": "code",
   "execution_count": 9,
   "id": "d27d2cef",
   "metadata": {},
   "outputs": [
    {
     "name": "stdout",
     "output_type": "stream",
     "text": [
      "yes\n"
     ]
    }
   ],
   "source": [
    "# Demonstrating the endswith() method:\n",
    "if \"epsilon\".endswith(\"on\"):\n",
    "    print(\"yes\")\n",
    "else:\n",
    "    print(\"no\")\n"
   ]
  },
  {
   "cell_type": "code",
   "execution_count": 10,
   "id": "fe07ebe7",
   "metadata": {},
   "outputs": [
    {
     "name": "stdout",
     "output_type": "stream",
     "text": [
      "1\n",
      "-1\n"
     ]
    }
   ],
   "source": [
    "# Demonstrating the find() method:\n",
    "print(\"Eta\".find(\"ta\"))\n",
    "print(\"Eta\".find(\"mma\"))\n"
   ]
  },
  {
   "cell_type": "code",
   "execution_count": 11,
   "id": "751eb3df",
   "metadata": {},
   "outputs": [
    {
     "name": "stdout",
     "output_type": "stream",
     "text": [
      "2\n",
      "2\n",
      "0\n",
      "-1\n"
     ]
    }
   ],
   "source": [
    "t = 'theta'\n",
    "print(t.find('eta'))\n",
    "print(t.find('et'))\n",
    "print(t.find('the'))\n",
    "print(t.find('ha'))\n",
    "\n"
   ]
  },
  {
   "cell_type": "code",
   "execution_count": 12,
   "id": "fc33b383",
   "metadata": {},
   "outputs": [
    {
     "name": "stdout",
     "output_type": "stream",
     "text": [
      "4\n"
     ]
    }
   ],
   "source": [
    "print('kappa'.find('a', 2))\n",
    "\n"
   ]
  },
  {
   "cell_type": "code",
   "execution_count": 13,
   "id": "a5965c9d",
   "metadata": {},
   "outputs": [
    {
     "name": "stdout",
     "output_type": "stream",
     "text": [
      "15\n",
      "80\n",
      "198\n",
      "221\n",
      "238\n"
     ]
    }
   ],
   "source": [
    "the_text = \"\"\"A variation of the ordinary lorem ipsum\n",
    "text has been used in typesetting since the 1960s \n",
    "or earlier, when it was popularized by advertisements \n",
    "for Letraset transfer sheets. It was introduced to \n",
    "the Information Age in the mid-1980s by the Aldus Corporation, \n",
    "which employed it in graphics and word-processing templates\n",
    "for its desktop publishing program PageMaker (from Wikipedia)\"\"\"\n",
    "\n",
    "fnd = the_text.find('the')\n",
    "while fnd != -1:\n",
    "    print(fnd)\n",
    "    fnd = the_text.find('the', fnd + 1)\n",
    "\n"
   ]
  },
  {
   "cell_type": "code",
   "execution_count": 14,
   "id": "3376bee2",
   "metadata": {},
   "outputs": [
    {
     "name": "stdout",
     "output_type": "stream",
     "text": [
      "1\n",
      "-1\n"
     ]
    }
   ],
   "source": [
    "print('kappa'.find('a', 1, 4))\n",
    "print('kappa'.find('a', 2, 4))\n",
    "\n"
   ]
  },
  {
   "cell_type": "code",
   "execution_count": 15,
   "id": "1735da35",
   "metadata": {},
   "outputs": [
    {
     "name": "stdout",
     "output_type": "stream",
     "text": [
      "True\n",
      "True\n",
      "True\n",
      "False\n",
      "False\n",
      "False\n"
     ]
    }
   ],
   "source": [
    "# Demonstrating the isalnum() method:\n",
    "print('lambda30'.isalnum())\n",
    "print('lambda'.isalnum())\n",
    "print('30'.isalnum())\n",
    "print('@'.isalnum())\n",
    "print('lambda_30'.isalnum())\n",
    "print(''.isalnum())\n"
   ]
  },
  {
   "cell_type": "code",
   "execution_count": 16,
   "id": "b35c0359",
   "metadata": {},
   "outputs": [
    {
     "name": "stdout",
     "output_type": "stream",
     "text": [
      "False\n",
      "True\n",
      "True\n"
     ]
    }
   ],
   "source": [
    "t = 'Six lambdas'\n",
    "print(t.isalnum())\n",
    "\n",
    "t = 'ΑβΓδ'\n",
    "print(t.isalnum())\n",
    "\n",
    "t = '20E1'\n",
    "print(t.isalnum())\n",
    "\n"
   ]
  },
  {
   "cell_type": "code",
   "execution_count": 17,
   "id": "35ea789e",
   "metadata": {},
   "outputs": [
    {
     "name": "stdout",
     "output_type": "stream",
     "text": [
      "True\n",
      "False\n",
      "True\n",
      "False\n"
     ]
    }
   ],
   "source": [
    "# Example 1: Demonstrating the isapha() method:\n",
    "print(\"Moooo\".isalpha())\n",
    "print('Mu40'.isalpha())\n",
    "\n",
    "# Example 2: Demonstrating the isdigit() method:\n",
    "print('2018'.isdigit())\n",
    "print(\"Year2019\".isdigit())\n"
   ]
  },
  {
   "cell_type": "code",
   "execution_count": 18,
   "id": "e74e72eb",
   "metadata": {},
   "outputs": [
    {
     "name": "stdout",
     "output_type": "stream",
     "text": [
      "False\n",
      "True\n",
      "True\n",
      "True\n",
      "False\n",
      "False\n",
      "False\n",
      "True\n"
     ]
    }
   ],
   "source": [
    "# Example 1: Demonstrating the islower() method:\n",
    "print(\"Moooo\".islower())\n",
    "print('moooo'.islower())\n",
    "\n",
    "# Example 2: Demonstrating the isspace() method:\n",
    "print(' \\n '.isspace())\n",
    "print(\" \".isspace())\n",
    "print(\"mooo mooo mooo\".isspace())\n",
    "\n",
    "# Example 3: Demonstrating the isupper() method:\n",
    "print(\"Moooo\".isupper())\n",
    "print('moooo'.isupper())\n",
    "print('MOOOO'.isupper())\n"
   ]
  },
  {
   "cell_type": "code",
   "execution_count": 19,
   "id": "438e5280",
   "metadata": {},
   "outputs": [
    {
     "name": "stdout",
     "output_type": "stream",
     "text": [
      "omicron,pi,rho\n"
     ]
    }
   ],
   "source": [
    "# Demonstrating the join() method:\n",
    "print(\",\".join([\"omicron\", \"pi\", \"rho\"]))"
   ]
  },
  {
   "cell_type": "code",
   "execution_count": 20,
   "id": "ba057508",
   "metadata": {},
   "outputs": [
    {
     "name": "stdout",
     "output_type": "stream",
     "text": [
      "sigma=60\n"
     ]
    }
   ],
   "source": [
    "# Demonstrating the lower() method:\n",
    "print(\"SiGmA=60\".lower())\n"
   ]
  },
  {
   "cell_type": "code",
   "execution_count": 21,
   "id": "71a5aace",
   "metadata": {},
   "outputs": [
    {
     "name": "stdout",
     "output_type": "stream",
     "text": [
      "[tau ]\n"
     ]
    }
   ],
   "source": [
    "# Demonstrating the lstrip() method:\n",
    "print(\"[\" + \" tau \".lstrip() + \"]\")"
   ]
  },
  {
   "cell_type": "code",
   "execution_count": 22,
   "id": "98d4ecc8",
   "metadata": {},
   "outputs": [
    {
     "name": "stdout",
     "output_type": "stream",
     "text": [
      "cisco.com\n"
     ]
    }
   ],
   "source": [
    "print(\"www.cisco.com\".lstrip(\"w.\"))\n",
    "\n"
   ]
  },
  {
   "cell_type": "code",
   "execution_count": 23,
   "id": "a3929209",
   "metadata": {},
   "outputs": [
    {
     "name": "stdout",
     "output_type": "stream",
     "text": [
      "pythoninstitute.org\n"
     ]
    }
   ],
   "source": [
    "print(\"pythoninstitute.org\".lstrip(\".org\"))\n",
    "\n"
   ]
  },
  {
   "cell_type": "code",
   "execution_count": 24,
   "id": "e90b9f02",
   "metadata": {},
   "outputs": [
    {
     "name": "stdout",
     "output_type": "stream",
     "text": [
      "www.pythoninstitute.org\n",
      "Thare are it!\n",
      "Apple \n"
     ]
    }
   ],
   "source": [
    "# Demonstrating the replace() method:\n",
    "print(\"www.netacad.com\".replace(\"netacad.com\", \"pythoninstitute.org\"))\n",
    "print(\"This is it!\".replace(\"is\", \"are\"))\n",
    "print(\"Apple juice\".replace(\"juice\", \"\"))\n"
   ]
  },
  {
   "cell_type": "code",
   "execution_count": 25,
   "id": "ec90394f",
   "metadata": {},
   "outputs": [
    {
     "name": "stdout",
     "output_type": "stream",
     "text": [
      "Thare is it!\n",
      "Thare are it!\n"
     ]
    }
   ],
   "source": [
    "print(\"This is it!\".replace(\"is\", \"are\", 1))\n",
    "print(\"This is it!\".replace(\"is\", \"are\", 2))\n",
    "\n"
   ]
  },
  {
   "cell_type": "code",
   "execution_count": 26,
   "id": "c4d2d014",
   "metadata": {},
   "outputs": [
    {
     "name": "stdout",
     "output_type": "stream",
     "text": [
      "8\n",
      "-1\n",
      "4\n"
     ]
    }
   ],
   "source": [
    "# Demonstrating the rfind() method:\n",
    "print(\"tau tau tau\".rfind(\"ta\"))\n",
    "print(\"tau tau tau\".rfind(\"ta\", 9))\n",
    "print(\"tau tau tau\".rfind(\"ta\", 3, 9))\n"
   ]
  },
  {
   "cell_type": "code",
   "execution_count": 27,
   "id": "a07bd073",
   "metadata": {},
   "outputs": [
    {
     "name": "stdout",
     "output_type": "stream",
     "text": [
      "[ upsilon]\n",
      "cis\n"
     ]
    }
   ],
   "source": [
    "# Demonstrating the rstrip() method:\n",
    "print(\"[\" + \" upsilon \".rstrip() + \"]\")\n",
    "print(\"cisco.com\".rstrip(\".com\"))\n"
   ]
  },
  {
   "cell_type": "code",
   "execution_count": 28,
   "id": "4feecb87",
   "metadata": {},
   "outputs": [
    {
     "name": "stdout",
     "output_type": "stream",
     "text": [
      "['phi', 'chi', 'psi']\n"
     ]
    }
   ],
   "source": [
    "# Demonstrating the split() method:\n",
    "print(\"phi       chi\\npsi\".split())"
   ]
  },
  {
   "cell_type": "code",
   "execution_count": 29,
   "id": "b1d95e3d",
   "metadata": {},
   "outputs": [
    {
     "name": "stdout",
     "output_type": "stream",
     "text": [
      "False\n",
      "True\n",
      "\n",
      "[aleph]\n"
     ]
    }
   ],
   "source": [
    "# Demonstrating the startswith() method:\n",
    "print(\"omega\".startswith(\"meg\"))\n",
    "print(\"omega\".startswith(\"om\"))\n",
    "\n",
    "print()\n",
    "\n",
    "# Demonstrating the strip() method:\n",
    "print(\"[\" + \"   aleph   \".strip() + \"]\")\n"
   ]
  },
  {
   "cell_type": "code",
   "execution_count": 30,
   "id": "45086eb1",
   "metadata": {},
   "outputs": [
    {
     "name": "stdout",
     "output_type": "stream",
     "text": [
      "i KNOW THAT i KNOW NOTHING.\n",
      "\n",
      "I Know That I Know Nothing. Part 1.\n",
      "\n",
      "I KNOW THAT I KNOW NOTHING. PART 2.\n"
     ]
    }
   ],
   "source": [
    "# Demonstrating the swapcase() method:\n",
    "print(\"I know that I know nothing.\".swapcase())\n",
    "\n",
    "print()\n",
    "\n",
    "# Demonstrating the title() method:\n",
    "print(\"I know that I know nothing. Part 1.\".title())\n",
    "\n",
    "print()\n",
    "\n",
    "# Demonstrating the upper() method:\n",
    "print(\"I know that I know nothing. Part 2.\".upper())\n"
   ]
  },
  {
   "cell_type": "code",
   "execution_count": 31,
   "id": "c772a358",
   "metadata": {},
   "outputs": [
    {
     "name": "stdout",
     "output_type": "stream",
     "text": [
      "ABC123xyx"
     ]
    }
   ],
   "source": [
    "for ch in \"abc123XYX\":\n",
    "    if ch.isupper():\n",
    "        print(ch.lower(), end='')\n",
    "    elif ch.islower():\n",
    "        print(ch.upper(), end='')\n",
    "    else:\n",
    "        print(ch, end='')\n"
   ]
  },
  {
   "cell_type": "code",
   "execution_count": 35,
   "id": "e30f0373",
   "metadata": {},
   "outputs": [
    {
     "name": "stdout",
     "output_type": "stream",
     "text": [
      "of\n"
     ]
    }
   ],
   "source": [
    "s1 = 'Where are the snows of yesteryear?'\n",
    "s2 = s1.split()\n",
    "print(s2[-2])"
   ]
  },
  {
   "cell_type": "code",
   "execution_count": 37,
   "id": "5bbc7287",
   "metadata": {},
   "outputs": [
    {
     "name": "stdout",
     "output_type": "stream",
     "text": [
      "Where*are*the*snows?\n"
     ]
    }
   ],
   "source": [
    "the_list = ['Where', 'are', 'the', 'snows?']\n",
    "s = '*'.join(the_list)\n",
    "print(s)"
   ]
  },
  {
   "cell_type": "code",
   "execution_count": 38,
   "id": "16e94156",
   "metadata": {},
   "outputs": [
    {
     "name": "stdout",
     "output_type": "stream",
     "text": [
      "It is either hard or possible\n"
     ]
    }
   ],
   "source": [
    "s = 'It is either easy or impossible'\n",
    "s = s.replace('easy', 'hard').replace('im', '')\n",
    "print(s)"
   ]
  },
  {
   "cell_type": "code",
   "execution_count": 124,
   "id": "44a182f2",
   "metadata": {},
   "outputs": [
    {
     "name": "stdout",
     "output_type": "stream",
     "text": [
      "T\n",
      "o\n",
      " \n",
      "b\n",
      "e\n",
      " \n",
      "o\n",
      "r\n",
      " \n",
      "n\n",
      "o\n",
      "t\n",
      " \n",
      "t\n",
      "o\n",
      " \n",
      "b\n",
      "e\n",
      ",\n",
      " \n",
      "t\n",
      "h\n",
      "a\n",
      "t\n",
      " \n",
      "i\n",
      "s\n",
      " \n",
      "t\n",
      "h\n",
      "e\n",
      " \n",
      "q\n",
      "u\n",
      "e\n",
      "s\n",
      "t\n",
      "i\n",
      "o\n",
      "n\n",
      "['To', 'be', 'or', 'not', 'to', 'be,', 'that', 'is', 'the']\n",
      "T\n",
      "o\n",
      " \n",
      "b\n",
      "e\n",
      " \n",
      "o\n",
      "r\n",
      " \n",
      "n\n",
      "o\n",
      "t\n",
      " \n",
      "t\n",
      "o\n",
      " \n",
      "b\n",
      "e\n",
      ",\n",
      "t\n",
      "h\n",
      "a\n",
      "t\n",
      " \n",
      "i\n",
      "s\n",
      " \n",
      "t\n",
      "h\n",
      "e\n",
      " \n",
      "q\n",
      "u\n",
      "e\n",
      "s\n",
      "t\n",
      "i\n",
      "o\n",
      "n\n",
      "['To', 'be', 'or', 'not', 'to', 'be,that', 'is', 'the']\n",
      " \n",
      " \n",
      " \n",
      "[]\n",
      " \n",
      "a\n",
      "b\n",
      "c\n",
      " \n",
      "['abc']\n",
      "[]\n"
     ]
    }
   ],
   "source": [
    "def mysplit(strng):\n",
    "    list = []\n",
    "    temp = \"\"\n",
    "    for a in strng:\n",
    "        if a != \" \":\n",
    "            temp += a\n",
    "        else:\n",
    "            if temp == \"\":\n",
    "                continue\n",
    "            else:\n",
    "                list.append(temp)\n",
    "                temp = \"\"\n",
    "    if temp:\n",
    "        list.append(temp)\n",
    "   \n",
    "    return list\n",
    "       \n",
    "print(mysplit(\"To be or not to be, that is the question\"))\n",
    "print(mysplit(\"To be or not to be,that is the question\"))\n",
    "print(mysplit(\"   \"))\n",
    "print(mysplit(\" abc \"))\n",
    "print(mysplit(\"\"))"
   ]
  },
  {
   "cell_type": "code",
   "execution_count": 110,
   "id": "6daeafba",
   "metadata": {},
   "outputs": [
    {
     "name": "stdout",
     "output_type": "stream",
     "text": [
      "False\n"
     ]
    }
   ],
   "source": [
    "print(\" c\".isspace())"
   ]
  },
  {
   "cell_type": "code",
   "execution_count": 112,
   "id": "45fef217",
   "metadata": {},
   "outputs": [
    {
     "name": "stdout",
     "output_type": "stream",
     "text": [
      "2\n"
     ]
    }
   ],
   "source": [
    "list=[\"\",\"\"]\n",
    "print(len(list))"
   ]
  }
 ],
 "metadata": {
  "kernelspec": {
   "display_name": "Python 3",
   "language": "python",
   "name": "python3"
  },
  "language_info": {
   "codemirror_mode": {
    "name": "ipython",
    "version": 3
   },
   "file_extension": ".py",
   "mimetype": "text/x-python",
   "name": "python",
   "nbconvert_exporter": "python",
   "pygments_lexer": "ipython3",
   "version": "3.8.8"
  }
 },
 "nbformat": 4,
 "nbformat_minor": 5
}
