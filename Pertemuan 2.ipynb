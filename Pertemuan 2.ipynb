{
 "cells": [
  {
   "cell_type": "code",
   "execution_count": 2,
   "id": "76718afc",
   "metadata": {},
   "outputs": [
    {
     "name": "stdout",
     "output_type": "stream",
     "text": [
      "Hello, World!\n"
     ]
    }
   ],
   "source": [
    "print(\"Hello, World!\")"
   ]
  },
  {
   "cell_type": "code",
   "execution_count": 3,
   "id": "c0966986",
   "metadata": {},
   "outputs": [
    {
     "name": "stdout",
     "output_type": "stream",
     "text": [
      "Hello, Python!\n"
     ]
    }
   ],
   "source": [
    "print(\"Hello, Python!\")"
   ]
  },
  {
   "cell_type": "code",
   "execution_count": 4,
   "id": "f65f2240",
   "metadata": {},
   "outputs": [
    {
     "name": "stdout",
     "output_type": "stream",
     "text": [
      "Fitroh\n"
     ]
    }
   ],
   "source": [
    "print(\"Fitroh\")"
   ]
  },
  {
   "cell_type": "code",
   "execution_count": 19,
   "id": "ce743379",
   "metadata": {},
   "outputs": [
    {
     "name": "stdout",
     "output_type": "stream",
     "text": [
      "\\\\\n",
      "The itsy bitsy spider climbed up the watersprout.\n",
      "\n",
      "Down came the rain and washed the spider out.\n",
      "The itsy bitsy spider climbed up the watersprout.\n",
      "\n"
     ]
    }
   ],
   "source": [
    "print(\"\\\\\\\\\")\n",
    "print(\"The itsy bitsy spider climbed up the watersprout.\\n\")\n",
    "print(\"Down came the rain and washed the spider out.\")\n",
    "print(\"The itsy bitsy spider\", \"climbed up\", \"the watersprout.\\n\")"
   ]
  },
  {
   "cell_type": "code",
   "execution_count": 21,
   "id": "2f6554bb",
   "metadata": {},
   "outputs": [
    {
     "name": "stdout",
     "output_type": "stream",
     "text": [
      "My name is Monty Python\n"
     ]
    }
   ],
   "source": [
    "print(\"My name is \", end=\"\")\n",
    "print(\"Monty Python\")"
   ]
  },
  {
   "cell_type": "code",
   "execution_count": 23,
   "id": "e9de34f2",
   "metadata": {},
   "outputs": [
    {
     "name": "stdout",
     "output_type": "stream",
     "text": [
      "My_name_is*Monty*Python*\n"
     ]
    }
   ],
   "source": [
    "print(\"My\" ,\"name\" ,\"is\", sep=\"_\", end=\"*\")\n",
    "print(\"Monty\", \"Python\", sep=\"*\", end=\"*\\n\")"
   ]
  },
  {
   "cell_type": "code",
   "execution_count": 30,
   "id": "52a177c7",
   "metadata": {},
   "outputs": [
    {
     "name": "stdout",
     "output_type": "stream",
     "text": [
      "Programming Essentials in\n",
      "Python\n",
      "Programming_Essentials_in Python\n"
     ]
    }
   ],
   "source": [
    "print(\"Programming\",\"Essentials\",\"in\")\n",
    "print(\"Python\")\n",
    "print(\"Programming\",\"Essentials\",\"in\", sep=\"_\",end=\" \")\n",
    "print(\"Python\")"
   ]
  },
  {
   "cell_type": "code",
   "execution_count": 33,
   "id": "0e1a0703",
   "metadata": {},
   "outputs": [
    {
     "name": "stdout",
     "output_type": "stream",
     "text": [
      "2\n",
      "2\n"
     ]
    }
   ],
   "source": [
    "print(\"2\") #string\n",
    "print(2) #integer"
   ]
  }
 ],
 "metadata": {
  "kernelspec": {
   "display_name": "Python 3",
   "language": "python",
   "name": "python3"
  },
  "language_info": {
   "codemirror_mode": {
    "name": "ipython",
    "version": 3
   },
   "file_extension": ".py",
   "mimetype": "text/x-python",
   "name": "python",
   "nbconvert_exporter": "python",
   "pygments_lexer": "ipython3",
   "version": "3.8.8"
  }
 },
 "nbformat": 4,
 "nbformat_minor": 5
}
