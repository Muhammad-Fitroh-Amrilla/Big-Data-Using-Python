{
 "cells": [
  {
   "cell_type": "code",
   "execution_count": 1,
   "id": "8a9e18ad",
   "metadata": {},
   "outputs": [
    {
     "name": "stdout",
     "output_type": "stream",
     "text": [
      "Starting time (hours): 12\n",
      "Starting time (minutes): 17\n",
      "Event duration (minutes): 59\n",
      "13:16\n"
     ]
    }
   ],
   "source": [
    "#lab\n",
    "hour = int(input(\"Starting time (hours): \"))\n",
    "mins = int(input(\"Starting time (minutes): \"))\n",
    "dura = int(input(\"Event duration (minutes): \"))\n",
    "\n",
    "total_min = mins+dura\n",
    "mins = (total_min)%60\n",
    "hour = (hour + (total_min//60))%24\n",
    "\n",
    "print(hour,mins,sep=\":\")"
   ]
  },
  {
   "cell_type": "code",
   "execution_count": 3,
   "id": "5aab0e01",
   "metadata": {},
   "outputs": [
    {
     "name": "stdout",
     "output_type": "stream",
     "text": [
      "Enter your name: Fitroh\n",
      "Hello, Fitroh. Nice to meet you!\n",
      "\n",
      "Press Enter to end the program.\n",
      "\n",
      "THE END.\n"
     ]
    }
   ],
   "source": [
    "name = input(\"Enter your name: \")\n",
    "print(\"Hello, \" + name + \". Nice to meet you!\")\n",
    "\n",
    "print(\"\\nPress Enter to end the program.\")\n",
    "input()\n",
    "print(\"THE END.\")"
   ]
  },
  {
   "cell_type": "code",
   "execution_count": 4,
   "id": "050094c5",
   "metadata": {},
   "outputs": [
    {
     "name": "stdout",
     "output_type": "stream",
     "text": [
      "Enter the first number: 12\n",
      "Enter the second number: 21\n",
      "1221\n"
     ]
    }
   ],
   "source": [
    "num_1 = input(\"Enter the first number: \") # Enter 12\n",
    "num_2 = input(\"Enter the second number: \") # Enter 21\n",
    "\n",
    "print(num_1 + num_2) # the program returns 1221"
   ]
  },
  {
   "cell_type": "code",
   "execution_count": 5,
   "id": "e00e84ae",
   "metadata": {},
   "outputs": [
    {
     "name": "stdout",
     "output_type": "stream",
     "text": [
      "Enter something: hello\n",
      "hellohellohello\n"
     ]
    }
   ],
   "source": [
    "my_input = input(\"Enter something: \") # Example input: hello\n",
    "print(my_input * 3) # Expected output: hellohellohello"
   ]
  },
  {
   "cell_type": "code",
   "execution_count": 7,
   "id": "074d1c19",
   "metadata": {},
   "outputs": [
    {
     "name": "stdout",
     "output_type": "stream",
     "text": [
      "Enter a number: 2\n",
      "55\n"
     ]
    }
   ],
   "source": [
    "# exercise 1\n",
    "x = int(input(\"Enter a number: \")) # The user enters 2\n",
    "print(x * \"5\")"
   ]
  },
  {
   "cell_type": "code",
   "execution_count": 12,
   "id": "acbcbe4d",
   "metadata": {},
   "outputs": [
    {
     "name": "stdout",
     "output_type": "stream",
     "text": [
      "Enter a number: 2\n",
      "<class 'str'>\n"
     ]
    }
   ],
   "source": [
    "# exercise 2\n",
    "x = input(\"Enter a number: \") # The user enters 2\n",
    "print(type(x))"
   ]
  },
  {
   "cell_type": "code",
   "execution_count": 16,
   "id": "f1d3c37d",
   "metadata": {},
   "outputs": [
    {
     "name": "stdout",
     "output_type": "stream",
     "text": [
      "True\n",
      "False\n"
     ]
    }
   ],
   "source": [
    "var = 0  # Assigning 0 to var\n",
    "print(var == 0)\n",
    "\n",
    "var = 1  # Assigning 1 to var\n",
    "print(var == 0)"
   ]
  },
  {
   "cell_type": "code",
   "execution_count": 17,
   "id": "0f9176b2",
   "metadata": {},
   "outputs": [
    {
     "name": "stdout",
     "output_type": "stream",
     "text": [
      "False\n",
      "True\n"
     ]
    }
   ],
   "source": [
    "var = 0  # Assigning 0 to var\n",
    "print(var != 0)\n",
    "\n",
    "var = 1  # Assigning 1 to var\n",
    "print(var != 0)"
   ]
  },
  {
   "cell_type": "code",
   "execution_count": 18,
   "id": "3af89396",
   "metadata": {},
   "outputs": [
    {
     "name": "stdout",
     "output_type": "stream",
     "text": [
      "input number : 55\n",
      "False\n"
     ]
    }
   ],
   "source": [
    "#lab\n",
    "n = int(input(\"input number : \"))\n",
    "print(n>=100)"
   ]
  },
  {
   "cell_type": "code",
   "execution_count": 19,
   "id": "e44f0e78",
   "metadata": {},
   "outputs": [
    {
     "name": "stdout",
     "output_type": "stream",
     "text": [
      "Enter the first number: 4\n",
      "Enter the second number: 2\n",
      "The larger number is: 4\n"
     ]
    }
   ],
   "source": [
    "# Read two numbers\n",
    "number1 = int(input(\"Enter the first number: \"))\n",
    "number2 = int(input(\"Enter the second number: \"))\n",
    "\n",
    "# Choose the larger number\n",
    "if number1 > number2:\n",
    "    larger_number = number1\n",
    "else:\n",
    "    larger_number = number2\n",
    "\n",
    "# Print the result\n",
    "print(\"The larger number is:\", larger_number)"
   ]
  },
  {
   "cell_type": "code",
   "execution_count": 20,
   "id": "963db2b5",
   "metadata": {},
   "outputs": [
    {
     "name": "stdout",
     "output_type": "stream",
     "text": [
      "Enter the first number: 4\n",
      "Enter the second number: 2\n",
      "The larger number is: 4\n"
     ]
    }
   ],
   "source": [
    "# Read two numbers\n",
    "number1 = int(input(\"Enter the first number: \"))\n",
    "number2 = int(input(\"Enter the second number: \"))\n",
    "\n",
    "# Choose the larger number\n",
    "if number1 > number2: larger_number = number1\n",
    "else: larger_number = number2\n",
    "\n",
    "# Print the result\n",
    "print(\"The larger number is:\", larger_number)"
   ]
  },
  {
   "cell_type": "code",
   "execution_count": 21,
   "id": "30100a89",
   "metadata": {},
   "outputs": [
    {
     "name": "stdout",
     "output_type": "stream",
     "text": [
      "Enter the first number: 1\n",
      "Enter the second number: 2\n",
      "Enter the third number: 3\n",
      "The largest number is: 3\n"
     ]
    }
   ],
   "source": [
    "# Read three numbers\n",
    "number1 = int(input(\"Enter the first number: \"))\n",
    "number2 = int(input(\"Enter the second number: \"))\n",
    "number3 = int(input(\"Enter the third number: \"))\n",
    "\n",
    "# We temporarily assume that the first number\n",
    "# is the largest one.\n",
    "# We will verify this soon.\n",
    "largest_number = number1\n",
    "\n",
    "# We check if the second number is larger than current largest_number\n",
    "# and update largest_number if needed.\n",
    "if number2 > largest_number:\n",
    "    largest_number = number2\n",
    "\n",
    "# We check if the third number is larger than current largest_number\n",
    "# and update largest_number if needed.\n",
    "if number3 > largest_number:\n",
    "    largest_number = number3\n",
    "\n",
    "# Print the result\n",
    "print(\"The largest number is:\", largest_number)\n"
   ]
  },
  {
   "cell_type": "code",
   "execution_count": 4,
   "id": "73e7bf70",
   "metadata": {},
   "outputs": [
    {
     "name": "stdout",
     "output_type": "stream",
     "text": [
      "4\n"
     ]
    }
   ],
   "source": [
    "largest_number = -999999999\n",
    "number = int(input())\n",
    "if number == -1:\n",
    "    print(largest_number)\n",
    "    exit()\n",
    "if number > largest_number:\n",
    "    largest_number = number\n",
    "# Go to line 02"
   ]
  },
  {
   "cell_type": "code",
   "execution_count": 6,
   "id": "e7bb826d",
   "metadata": {},
   "outputs": [
    {
     "name": "stdout",
     "output_type": "stream",
     "text": [
      "Enter the first number: 1\n",
      "Enter the second number: 2\n",
      "Enter the third number: 3\n",
      "The largest number is: 3\n",
      "The smallest number is: 1\n"
     ]
    }
   ],
   "source": [
    "# Read three numbers.\n",
    "number1 = int(input(\"Enter the first number: \"))\n",
    "number2 = int(input(\"Enter the second number: \"))\n",
    "number3 = int(input(\"Enter the third number: \"))\n",
    "\n",
    "# Check which one of the numbers is the greatest\n",
    "# and pass it to the largest_number variable.\n",
    "\n",
    "largest_number = max(number1, number2, number3)\n",
    "\n",
    "# Print the result.\n",
    "print(\"The largest number is:\", largest_number)\n",
    "\n",
    "smallest_number = min(number1, number2, number3)\n",
    "\n",
    "# Print the result.\n",
    "print(\"The smallest number is:\", smallest_number)"
   ]
  },
  {
   "cell_type": "code",
   "execution_count": 9,
   "id": "8e5e1bca",
   "metadata": {},
   "outputs": [
    {
     "name": "stdout",
     "output_type": "stream",
     "text": [
      "input plant name :Spathiphyllum\n",
      "Yes - Spathiphyllum is the best plant ever!\n"
     ]
    }
   ],
   "source": [
    "#lab\n",
    "plant = input(\"input plant name :\")\n",
    "if plant == \"Spathiphyllum\":\n",
    "    print(\"Yes - Spathiphyllum is the best plant ever!\")\n",
    "elif plant == \"spathiphyllum\":\n",
    "    print(\"No, I want a big Spathiphyllum!\")\n",
    "else:\n",
    "    print(\"Spathiphyllum! Not \" + plant+\" !\")"
   ]
  },
  {
   "cell_type": "code",
   "execution_count": 6,
   "id": "61978b63",
   "metadata": {},
   "outputs": [
    {
     "name": "stdout",
     "output_type": "stream",
     "text": [
      "Enter the annual income: -100\n",
      "The tax is: 0.0 thalers\n"
     ]
    }
   ],
   "source": [
    "#lab\n",
    "income = float(input(\"Enter the annual income: \"))\n",
    "\n",
    "if income<=85528:\n",
    "    tax = (income*18/100)-556.2\n",
    "else:\n",
    "    tax = 14839.2+((income-85528)*32/100)\n",
    "if tax <0:\n",
    "    tax = 0.0\n",
    "tax = round(tax, 0)\n",
    "print(\"The tax is:\", tax, \"thalers\")"
   ]
  },
  {
   "cell_type": "code",
   "execution_count": 11,
   "id": "68807e32",
   "metadata": {},
   "outputs": [
    {
     "name": "stdout",
     "output_type": "stream",
     "text": [
      "Enter a year: 1996\n",
      "Leap year\n"
     ]
    }
   ],
   "source": [
    "#lab\n",
    "year = int(input(\"Enter a year: \"))\n",
    "\n",
    "if year>=1582:\n",
    "    if (year%4 != 0):\n",
    "        print(\"Common year\")\n",
    "    elif year%100 !=0:\n",
    "        print(\"Leap year\")\n",
    "    elif (year%400 !=0):\n",
    "        print(\"Common year\")\n",
    "    else:\n",
    "        print(\"Leap year\")\n",
    "else:\n",
    "    print(\"Not within the Gregorian calendar period\")"
   ]
  }
 ],
 "metadata": {
  "kernelspec": {
   "display_name": "Python 3",
   "language": "python",
   "name": "python3"
  },
  "language_info": {
   "codemirror_mode": {
    "name": "ipython",
    "version": 3
   },
   "file_extension": ".py",
   "mimetype": "text/x-python",
   "name": "python",
   "nbconvert_exporter": "python",
   "pygments_lexer": "ipython3",
   "version": "3.8.8"
  }
 },
 "nbformat": 4,
 "nbformat_minor": 5
}
